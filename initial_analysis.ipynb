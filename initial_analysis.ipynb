{
 "cells": [
  {
   "cell_type": "code",
   "execution_count": 1,
   "metadata": {},
   "outputs": [],
   "source": [
    "import pandas as pd \n",
    "import numpy as np \n",
    "import matplotlib.pyplot as plt\n",
    "import seaborn as sns\n",
    "import plotly.graph_objects as go"
   ]
  },
  {
   "cell_type": "code",
   "execution_count": 3,
   "metadata": {},
   "outputs": [
    {
     "name": "stderr",
     "output_type": "stream",
     "text": [
      "C:\\Users\\anisr\\AppData\\Local\\Temp\\ipykernel_12236\\3712957585.py:1: DtypeWarning: Columns (19,20,21,50,51,104,105,106) have mixed types. Specify dtype option on import or set low_memory=False.\n",
      "  adnimerge = pd.read_csv(\"Files/ADNIMERGE_06Feb2025.csv\")\n"
     ]
    },
    {
     "data": {
      "text/html": [
       "<div>\n",
       "<style scoped>\n",
       "    .dataframe tbody tr th:only-of-type {\n",
       "        vertical-align: middle;\n",
       "    }\n",
       "\n",
       "    .dataframe tbody tr th {\n",
       "        vertical-align: top;\n",
       "    }\n",
       "\n",
       "    .dataframe thead th {\n",
       "        text-align: right;\n",
       "    }\n",
       "</style>\n",
       "<table border=\"1\" class=\"dataframe\">\n",
       "  <thead>\n",
       "    <tr style=\"text-align: right;\">\n",
       "      <th></th>\n",
       "      <th>RID</th>\n",
       "      <th>COLPROT</th>\n",
       "      <th>ORIGPROT</th>\n",
       "      <th>PTID</th>\n",
       "      <th>SITE</th>\n",
       "      <th>VISCODE</th>\n",
       "      <th>EXAMDATE</th>\n",
       "      <th>DX_bl</th>\n",
       "      <th>AGE</th>\n",
       "      <th>PTGENDER</th>\n",
       "      <th>...</th>\n",
       "      <th>PTAU_bl</th>\n",
       "      <th>FDG_bl</th>\n",
       "      <th>PIB_bl</th>\n",
       "      <th>AV45_bl</th>\n",
       "      <th>FBB_bl</th>\n",
       "      <th>Years_bl</th>\n",
       "      <th>Month_bl</th>\n",
       "      <th>Month</th>\n",
       "      <th>M</th>\n",
       "      <th>update_stamp</th>\n",
       "    </tr>\n",
       "  </thead>\n",
       "  <tbody>\n",
       "    <tr>\n",
       "      <th>0</th>\n",
       "      <td>2</td>\n",
       "      <td>ADNI1</td>\n",
       "      <td>ADNI1</td>\n",
       "      <td>011_S_0002</td>\n",
       "      <td>11</td>\n",
       "      <td>bl</td>\n",
       "      <td>2005-09-08</td>\n",
       "      <td>CN</td>\n",
       "      <td>74.3</td>\n",
       "      <td>Male</td>\n",
       "      <td>...</td>\n",
       "      <td>NaN</td>\n",
       "      <td>1.33615</td>\n",
       "      <td>NaN</td>\n",
       "      <td>NaN</td>\n",
       "      <td>NaN</td>\n",
       "      <td>0.000000</td>\n",
       "      <td>0.00000</td>\n",
       "      <td>0</td>\n",
       "      <td>0</td>\n",
       "      <td>2023-07-07 04:59:40.0</td>\n",
       "    </tr>\n",
       "    <tr>\n",
       "      <th>1</th>\n",
       "      <td>3</td>\n",
       "      <td>ADNI1</td>\n",
       "      <td>ADNI1</td>\n",
       "      <td>011_S_0003</td>\n",
       "      <td>11</td>\n",
       "      <td>bl</td>\n",
       "      <td>2005-09-12</td>\n",
       "      <td>AD</td>\n",
       "      <td>81.3</td>\n",
       "      <td>Male</td>\n",
       "      <td>...</td>\n",
       "      <td>22.83</td>\n",
       "      <td>1.10860</td>\n",
       "      <td>NaN</td>\n",
       "      <td>NaN</td>\n",
       "      <td>NaN</td>\n",
       "      <td>0.000000</td>\n",
       "      <td>0.00000</td>\n",
       "      <td>0</td>\n",
       "      <td>0</td>\n",
       "      <td>2023-07-07 04:59:40.0</td>\n",
       "    </tr>\n",
       "    <tr>\n",
       "      <th>2</th>\n",
       "      <td>3</td>\n",
       "      <td>ADNI1</td>\n",
       "      <td>ADNI1</td>\n",
       "      <td>011_S_0003</td>\n",
       "      <td>11</td>\n",
       "      <td>m06</td>\n",
       "      <td>2006-03-13</td>\n",
       "      <td>AD</td>\n",
       "      <td>81.3</td>\n",
       "      <td>Male</td>\n",
       "      <td>...</td>\n",
       "      <td>22.83</td>\n",
       "      <td>1.10860</td>\n",
       "      <td>NaN</td>\n",
       "      <td>NaN</td>\n",
       "      <td>NaN</td>\n",
       "      <td>0.498289</td>\n",
       "      <td>5.96721</td>\n",
       "      <td>6</td>\n",
       "      <td>6</td>\n",
       "      <td>2023-07-07 04:59:40.0</td>\n",
       "    </tr>\n",
       "    <tr>\n",
       "      <th>3</th>\n",
       "      <td>3</td>\n",
       "      <td>ADNI1</td>\n",
       "      <td>ADNI1</td>\n",
       "      <td>011_S_0003</td>\n",
       "      <td>11</td>\n",
       "      <td>m12</td>\n",
       "      <td>2006-09-12</td>\n",
       "      <td>AD</td>\n",
       "      <td>81.3</td>\n",
       "      <td>Male</td>\n",
       "      <td>...</td>\n",
       "      <td>22.83</td>\n",
       "      <td>1.10860</td>\n",
       "      <td>NaN</td>\n",
       "      <td>NaN</td>\n",
       "      <td>NaN</td>\n",
       "      <td>0.999316</td>\n",
       "      <td>11.96720</td>\n",
       "      <td>12</td>\n",
       "      <td>12</td>\n",
       "      <td>2023-07-07 04:59:40.0</td>\n",
       "    </tr>\n",
       "    <tr>\n",
       "      <th>4</th>\n",
       "      <td>3</td>\n",
       "      <td>ADNI1</td>\n",
       "      <td>ADNI1</td>\n",
       "      <td>011_S_0003</td>\n",
       "      <td>11</td>\n",
       "      <td>m24</td>\n",
       "      <td>2007-09-12</td>\n",
       "      <td>AD</td>\n",
       "      <td>81.3</td>\n",
       "      <td>Male</td>\n",
       "      <td>...</td>\n",
       "      <td>22.83</td>\n",
       "      <td>1.10860</td>\n",
       "      <td>NaN</td>\n",
       "      <td>NaN</td>\n",
       "      <td>NaN</td>\n",
       "      <td>1.998630</td>\n",
       "      <td>23.93440</td>\n",
       "      <td>24</td>\n",
       "      <td>24</td>\n",
       "      <td>2023-07-07 04:59:40.0</td>\n",
       "    </tr>\n",
       "  </tbody>\n",
       "</table>\n",
       "<p>5 rows × 116 columns</p>\n",
       "</div>"
      ],
      "text/plain": [
       "   RID COLPROT ORIGPROT        PTID  SITE VISCODE    EXAMDATE DX_bl   AGE  \\\n",
       "0    2   ADNI1    ADNI1  011_S_0002    11      bl  2005-09-08    CN  74.3   \n",
       "1    3   ADNI1    ADNI1  011_S_0003    11      bl  2005-09-12    AD  81.3   \n",
       "2    3   ADNI1    ADNI1  011_S_0003    11     m06  2006-03-13    AD  81.3   \n",
       "3    3   ADNI1    ADNI1  011_S_0003    11     m12  2006-09-12    AD  81.3   \n",
       "4    3   ADNI1    ADNI1  011_S_0003    11     m24  2007-09-12    AD  81.3   \n",
       "\n",
       "  PTGENDER  ...  PTAU_bl   FDG_bl PIB_bl AV45_bl  FBB_bl  Years_bl  Month_bl  \\\n",
       "0     Male  ...      NaN  1.33615    NaN     NaN     NaN  0.000000   0.00000   \n",
       "1     Male  ...    22.83  1.10860    NaN     NaN     NaN  0.000000   0.00000   \n",
       "2     Male  ...    22.83  1.10860    NaN     NaN     NaN  0.498289   5.96721   \n",
       "3     Male  ...    22.83  1.10860    NaN     NaN     NaN  0.999316  11.96720   \n",
       "4     Male  ...    22.83  1.10860    NaN     NaN     NaN  1.998630  23.93440   \n",
       "\n",
       "   Month   M           update_stamp  \n",
       "0      0   0  2023-07-07 04:59:40.0  \n",
       "1      0   0  2023-07-07 04:59:40.0  \n",
       "2      6   6  2023-07-07 04:59:40.0  \n",
       "3     12  12  2023-07-07 04:59:40.0  \n",
       "4     24  24  2023-07-07 04:59:40.0  \n",
       "\n",
       "[5 rows x 116 columns]"
      ]
     },
     "execution_count": 3,
     "metadata": {},
     "output_type": "execute_result"
    }
   ],
   "source": [
    "adnimerge = pd.read_csv(\"Files/ADNIMERGE_06Feb2025.csv\")\n",
    "adnimerge.head()"
   ]
  },
  {
   "cell_type": "code",
   "execution_count": 4,
   "metadata": {},
   "outputs": [
    {
     "data": {
      "text/plain": [
       "ADNI1     819\n",
       "ADNI2     790\n",
       "ADNI3     690\n",
       "ADNIGO    131\n",
       "Name: ORIGPROT, dtype: int64"
      ]
     },
     "execution_count": 4,
     "metadata": {},
     "output_type": "execute_result"
    }
   ],
   "source": [
    "adnimerge[adnimerge['VISCODE'] == 'bl']['ORIGPROT'].value_counts()"
   ]
  },
  {
   "cell_type": "code",
   "execution_count": 5,
   "metadata": {},
   "outputs": [],
   "source": [
    "baseline_counts = adnimerge[adnimerge[\"VISCODE\"] == \"bl\"][\"RID\"].nunique()"
   ]
  },
  {
   "cell_type": "code",
   "execution_count": 6,
   "metadata": {},
   "outputs": [],
   "source": [
    "follow_up_counts = adnimerge.groupby(\"RID\")[\"VISCODE\"].count().reset_index()\n",
    "follow_up_counts.columns = [\"RID\", \"Total_Visits\"]"
   ]
  },
  {
   "cell_type": "code",
   "execution_count": 7,
   "metadata": {},
   "outputs": [],
   "source": [
    "longest_follow_ups = follow_up_counts.sort_values(\n",
    "    by=\"Total_Visits\", ascending=False)"
   ]
  },
  {
   "cell_type": "code",
   "execution_count": 8,
   "metadata": {},
   "outputs": [
    {
     "data": {
      "text/html": [
       "<div>\n",
       "<style scoped>\n",
       "    .dataframe tbody tr th:only-of-type {\n",
       "        vertical-align: middle;\n",
       "    }\n",
       "\n",
       "    .dataframe tbody tr th {\n",
       "        vertical-align: top;\n",
       "    }\n",
       "\n",
       "    .dataframe thead th {\n",
       "        text-align: right;\n",
       "    }\n",
       "</style>\n",
       "<table border=\"1\" class=\"dataframe\">\n",
       "  <thead>\n",
       "    <tr style=\"text-align: right;\">\n",
       "      <th></th>\n",
       "      <th>RID</th>\n",
       "      <th>Total_Visits</th>\n",
       "    </tr>\n",
       "  </thead>\n",
       "  <tbody>\n",
       "    <tr>\n",
       "      <th>count</th>\n",
       "      <td>2430.000000</td>\n",
       "      <td>2430.000000</td>\n",
       "    </tr>\n",
       "    <tr>\n",
       "      <th>mean</th>\n",
       "      <td>3727.081893</td>\n",
       "      <td>6.757613</td>\n",
       "    </tr>\n",
       "    <tr>\n",
       "      <th>std</th>\n",
       "      <td>2421.329437</td>\n",
       "      <td>4.740714</td>\n",
       "    </tr>\n",
       "    <tr>\n",
       "      <th>min</th>\n",
       "      <td>2.000000</td>\n",
       "      <td>1.000000</td>\n",
       "    </tr>\n",
       "    <tr>\n",
       "      <th>25%</th>\n",
       "      <td>1067.000000</td>\n",
       "      <td>3.000000</td>\n",
       "    </tr>\n",
       "    <tr>\n",
       "      <th>50%</th>\n",
       "      <td>4405.500000</td>\n",
       "      <td>5.000000</td>\n",
       "    </tr>\n",
       "    <tr>\n",
       "      <th>75%</th>\n",
       "      <td>6143.750000</td>\n",
       "      <td>9.000000</td>\n",
       "    </tr>\n",
       "    <tr>\n",
       "      <th>max</th>\n",
       "      <td>7125.000000</td>\n",
       "      <td>25.000000</td>\n",
       "    </tr>\n",
       "  </tbody>\n",
       "</table>\n",
       "</div>"
      ],
      "text/plain": [
       "               RID  Total_Visits\n",
       "count  2430.000000   2430.000000\n",
       "mean   3727.081893      6.757613\n",
       "std    2421.329437      4.740714\n",
       "min       2.000000      1.000000\n",
       "25%    1067.000000      3.000000\n",
       "50%    4405.500000      5.000000\n",
       "75%    6143.750000      9.000000\n",
       "max    7125.000000     25.000000"
      ]
     },
     "execution_count": 8,
     "metadata": {},
     "output_type": "execute_result"
    }
   ],
   "source": [
    "longest_follow_ups.describe()"
   ]
  },
  {
   "cell_type": "code",
   "execution_count": 9,
   "metadata": {},
   "outputs": [
    {
     "data": {
      "text/html": [
       "<div>\n",
       "<style scoped>\n",
       "    .dataframe tbody tr th:only-of-type {\n",
       "        vertical-align: middle;\n",
       "    }\n",
       "\n",
       "    .dataframe tbody tr th {\n",
       "        vertical-align: top;\n",
       "    }\n",
       "\n",
       "    .dataframe thead th {\n",
       "        text-align: right;\n",
       "    }\n",
       "</style>\n",
       "<table border=\"1\" class=\"dataframe\">\n",
       "  <thead>\n",
       "    <tr style=\"text-align: right;\">\n",
       "      <th></th>\n",
       "      <th>RID</th>\n",
       "      <th>Total_Visits</th>\n",
       "    </tr>\n",
       "  </thead>\n",
       "  <tbody>\n",
       "    <tr>\n",
       "      <th>345</th>\n",
       "      <td>605</td>\n",
       "      <td>25</td>\n",
       "    </tr>\n",
       "    <tr>\n",
       "      <th>46</th>\n",
       "      <td>74</td>\n",
       "      <td>24</td>\n",
       "    </tr>\n",
       "    <tr>\n",
       "      <th>385</th>\n",
       "      <td>679</td>\n",
       "      <td>24</td>\n",
       "    </tr>\n",
       "    <tr>\n",
       "      <th>111</th>\n",
       "      <td>178</td>\n",
       "      <td>24</td>\n",
       "    </tr>\n",
       "    <tr>\n",
       "      <th>98</th>\n",
       "      <td>159</td>\n",
       "      <td>23</td>\n",
       "    </tr>\n",
       "  </tbody>\n",
       "</table>\n",
       "</div>"
      ],
      "text/plain": [
       "     RID  Total_Visits\n",
       "345  605            25\n",
       "46    74            24\n",
       "385  679            24\n",
       "111  178            24\n",
       "98   159            23"
      ]
     },
     "execution_count": 9,
     "metadata": {},
     "output_type": "execute_result"
    }
   ],
   "source": [
    "longest_follow_ups.head()"
   ]
  },
  {
   "cell_type": "code",
   "execution_count": 10,
   "metadata": {},
   "outputs": [],
   "source": [
    "df = adnimerge[[\"RID\", \"VISCODE\", \"DX_bl\", \"DX\", \"EXAMDATE\", \"COLPROT\"]]"
   ]
  },
  {
   "cell_type": "code",
   "execution_count": 11,
   "metadata": {},
   "outputs": [
    {
     "name": "stderr",
     "output_type": "stream",
     "text": [
      "C:\\Users\\anisr\\AppData\\Local\\Temp\\ipykernel_12236\\4021822051.py:1: SettingWithCopyWarning: \n",
      "A value is trying to be set on a copy of a slice from a DataFrame\n",
      "\n",
      "See the caveats in the documentation: https://pandas.pydata.org/pandas-docs/stable/user_guide/indexing.html#returning-a-view-versus-a-copy\n",
      "  df[\"DX_bl\"].fillna(\"Unknown\", inplace=True)\n",
      "C:\\Users\\anisr\\AppData\\Local\\Temp\\ipykernel_12236\\4021822051.py:2: SettingWithCopyWarning: \n",
      "A value is trying to be set on a copy of a slice from a DataFrame\n",
      "\n",
      "See the caveats in the documentation: https://pandas.pydata.org/pandas-docs/stable/user_guide/indexing.html#returning-a-view-versus-a-copy\n",
      "  df[\"DX\"].fillna(\"Unknown\", inplace=True)\n"
     ]
    }
   ],
   "source": [
    "df[\"DX_bl\"].fillna(\"Unknown\", inplace=True)\n",
    "df[\"DX\"].fillna(\"Unknown\", inplace=True)\n",
    "\n",
    "\n",
    "\n",
    "def get_visit_diagnosis_mapping(rid):\n",
    "    subset = df[df[\"RID\"] == rid].sort_values(\"VISCODE\")\n",
    "    visit_dx_dict = {}\n",
    "    for _, row in subset.iterrows():\n",
    "        if row[\"VISCODE\"] == \"bl\":\n",
    "            visit_dx_dict[row[\"VISCODE\"]] = row[\"DX_bl\"]  # Baseline DX\n",
    "        else:\n",
    "            visit_dx_dict[row[\"VISCODE\"]] = row[\"DX\"]  # Follow-up DX\n",
    "    return visit_dx_dict\n",
    "\n",
    "\n",
    "# Count total visits per participant\n",
    "follow_up_counts = df.groupby(\"RID\")[\"VISCODE\"].count().reset_index()\n",
    "follow_up_counts.columns = [\"RID\", \"Total_Visits\"]\n",
    "\n",
    "# Track ADNI phases per participant\n",
    "phases_per_participant = df.groupby(\"RID\")[\"COLPROT\"].unique().reset_index()\n",
    "phases_per_participant.columns = [\"RID\", \"Phases\"]\n",
    "phases_per_participant[\"Phases\"] = phases_per_participant[\"Phases\"].apply(\n",
    "    lambda x: \", \".join(sorted(set(x))))\n",
    "\n",
    "# Create the dictionary of visit-diagnosis mappings\n",
    "visit_dx_df = pd.DataFrame({\"RID\": df[\"RID\"].unique()})\n",
    "visit_dx_df[\"Visit_Codes\"] = visit_dx_df[\"RID\"].apply(\n",
    "    lambda x: get_visit_diagnosis_mapping(x))\n",
    "\n",
    "# Merge all information into a final dataframe\n",
    "follow_up_summary = follow_up_counts.merge(\n",
    "    phases_per_participant, on=\"RID\").merge(visit_dx_df, on=\"RID\")\n",
    "\n",
    "# Sort by number of visits\n",
    "follow_up_summary = follow_up_summary.sort_values(\n",
    "    by=\"Total_Visits\", ascending=False)"
   ]
  },
  {
   "cell_type": "code",
   "execution_count": 12,
   "metadata": {},
   "outputs": [
    {
     "data": {
      "text/html": [
       "<div>\n",
       "<style scoped>\n",
       "    .dataframe tbody tr th:only-of-type {\n",
       "        vertical-align: middle;\n",
       "    }\n",
       "\n",
       "    .dataframe tbody tr th {\n",
       "        vertical-align: top;\n",
       "    }\n",
       "\n",
       "    .dataframe thead th {\n",
       "        text-align: right;\n",
       "    }\n",
       "</style>\n",
       "<table border=\"1\" class=\"dataframe\">\n",
       "  <thead>\n",
       "    <tr style=\"text-align: right;\">\n",
       "      <th></th>\n",
       "      <th>RID</th>\n",
       "      <th>Total_Visits</th>\n",
       "      <th>Phases</th>\n",
       "      <th>Visit_Codes</th>\n",
       "    </tr>\n",
       "  </thead>\n",
       "  <tbody>\n",
       "    <tr>\n",
       "      <th>345</th>\n",
       "      <td>605</td>\n",
       "      <td>25</td>\n",
       "      <td>ADNI1, ADNI2, ADNI3, ADNIGO</td>\n",
       "      <td>{'bl': 'CN', 'm06': 'CN', 'm108': 'MCI', 'm12'...</td>\n",
       "    </tr>\n",
       "    <tr>\n",
       "      <th>46</th>\n",
       "      <td>74</td>\n",
       "      <td>24</td>\n",
       "      <td>ADNI1, ADNI2, ADNI3, ADNIGO</td>\n",
       "      <td>{'bl': 'CN', 'm06': 'CN', 'm108': 'CN', 'm12':...</td>\n",
       "    </tr>\n",
       "    <tr>\n",
       "      <th>385</th>\n",
       "      <td>679</td>\n",
       "      <td>24</td>\n",
       "      <td>ADNI1, ADNI2, ADNI3</td>\n",
       "      <td>{'bl': 'LMCI', 'm06': 'MCI', 'm108': 'MCI', 'm...</td>\n",
       "    </tr>\n",
       "    <tr>\n",
       "      <th>111</th>\n",
       "      <td>178</td>\n",
       "      <td>24</td>\n",
       "      <td>ADNI1, ADNI2, ADNI3, ADNIGO</td>\n",
       "      <td>{'bl': 'LMCI', 'm06': 'MCI', 'm108': 'MCI', 'm...</td>\n",
       "    </tr>\n",
       "    <tr>\n",
       "      <th>98</th>\n",
       "      <td>159</td>\n",
       "      <td>23</td>\n",
       "      <td>ADNI1, ADNI2, ADNI3, ADNIGO</td>\n",
       "      <td>{'bl': 'CN', 'm06': 'CN', 'm108': 'CN', 'm12':...</td>\n",
       "    </tr>\n",
       "    <tr>\n",
       "      <th>...</th>\n",
       "      <td>...</td>\n",
       "      <td>...</td>\n",
       "      <td>...</td>\n",
       "      <td>...</td>\n",
       "    </tr>\n",
       "    <tr>\n",
       "      <th>1851</th>\n",
       "      <td>6199</td>\n",
       "      <td>2</td>\n",
       "      <td>ADNI3</td>\n",
       "      <td>{'bl': 'CN', 'm12': 'MCI'}</td>\n",
       "    </tr>\n",
       "    <tr>\n",
       "      <th>2333</th>\n",
       "      <td>6956</td>\n",
       "      <td>2</td>\n",
       "      <td>ADNI3</td>\n",
       "      <td>{'bl': 'SMC', 'm12': 'Unknown'}</td>\n",
       "    </tr>\n",
       "    <tr>\n",
       "      <th>2042</th>\n",
       "      <td>6479</td>\n",
       "      <td>2</td>\n",
       "      <td>ADNI3</td>\n",
       "      <td>{'bl': 'LMCI', 'm12': 'MCI'}</td>\n",
       "    </tr>\n",
       "    <tr>\n",
       "      <th>1696</th>\n",
       "      <td>5231</td>\n",
       "      <td>2</td>\n",
       "      <td>ADNI2</td>\n",
       "      <td>{'bl': 'AD', 'm06': 'Dementia'}</td>\n",
       "    </tr>\n",
       "    <tr>\n",
       "      <th>1901</th>\n",
       "      <td>6278</td>\n",
       "      <td>2</td>\n",
       "      <td>ADNI3</td>\n",
       "      <td>{'bl': 'SMC', 'm24': 'Unknown'}</td>\n",
       "    </tr>\n",
       "  </tbody>\n",
       "</table>\n",
       "<p>2209 rows × 4 columns</p>\n",
       "</div>"
      ],
      "text/plain": [
       "       RID  Total_Visits                       Phases  \\\n",
       "345    605            25  ADNI1, ADNI2, ADNI3, ADNIGO   \n",
       "46      74            24  ADNI1, ADNI2, ADNI3, ADNIGO   \n",
       "385    679            24          ADNI1, ADNI2, ADNI3   \n",
       "111    178            24  ADNI1, ADNI2, ADNI3, ADNIGO   \n",
       "98     159            23  ADNI1, ADNI2, ADNI3, ADNIGO   \n",
       "...    ...           ...                          ...   \n",
       "1851  6199             2                        ADNI3   \n",
       "2333  6956             2                        ADNI3   \n",
       "2042  6479             2                        ADNI3   \n",
       "1696  5231             2                        ADNI2   \n",
       "1901  6278             2                        ADNI3   \n",
       "\n",
       "                                            Visit_Codes  \n",
       "345   {'bl': 'CN', 'm06': 'CN', 'm108': 'MCI', 'm12'...  \n",
       "46    {'bl': 'CN', 'm06': 'CN', 'm108': 'CN', 'm12':...  \n",
       "385   {'bl': 'LMCI', 'm06': 'MCI', 'm108': 'MCI', 'm...  \n",
       "111   {'bl': 'LMCI', 'm06': 'MCI', 'm108': 'MCI', 'm...  \n",
       "98    {'bl': 'CN', 'm06': 'CN', 'm108': 'CN', 'm12':...  \n",
       "...                                                 ...  \n",
       "1851                         {'bl': 'CN', 'm12': 'MCI'}  \n",
       "2333                    {'bl': 'SMC', 'm12': 'Unknown'}  \n",
       "2042                       {'bl': 'LMCI', 'm12': 'MCI'}  \n",
       "1696                    {'bl': 'AD', 'm06': 'Dementia'}  \n",
       "1901                    {'bl': 'SMC', 'm24': 'Unknown'}  \n",
       "\n",
       "[2209 rows x 4 columns]"
      ]
     },
     "execution_count": 12,
     "metadata": {},
     "output_type": "execute_result"
    }
   ],
   "source": [
    "follow_up_summary[follow_up_summary['Total_Visits'] > 1]"
   ]
  },
  {
   "cell_type": "code",
   "execution_count": 13,
   "metadata": {},
   "outputs": [
    {
     "data": {
      "image/png": "[encoded data removed]",
      "text/plain": [
       "<Figure size 1000x500 with 1 Axes>"
      ]
     },
     "metadata": {},
     "output_type": "display_data"
    }
   ],
   "source": [
    "plt.figure(figsize=(10, 5))\n",
    "plt.hist(follow_up_summary[\"Total_Visits\"],\n",
    "         bins=20, edgecolor='black', alpha=0.7)\n",
    "plt.xlabel(\"Number of Follow-Up Visits\")\n",
    "plt.ylabel(\"Number of Participants\")\n",
    "plt.title(\"Distribution of Follow-Up Visits Across Participants\")\n",
    "plt.grid(axis='y', linestyle='--', alpha=0.7)\n",
    "plt.show()"
   ]
  },
  {
   "cell_type": "code",
   "execution_count": 28,
   "metadata": {},
   "outputs": [],
   "source": [
    "from alluvial import plot\n",
    "from collections import Counter"
   ]
  },
  {
   "cell_type": "code",
   "execution_count": null,
   "metadata": {},
   "outputs": [],
   "source": [
    "follow_up_counts = df.groupby(\"RID\")[\"VISCODE\"].count().reset_index()\n",
    "follow_up_counts.columns = [\"RID\", \"Total_Visits\"]\n",
    "\n",
    "phases_per_participant = df.groupby(\"RID\")[\"COLPROT\"].unique().reset_index()\n",
    "phases_per_participant.columns = [\"RID\", \"Phases\"]\n",
    "phases_per_participant[\"Phases\"] = phases_per_participant[\"Phases\"].apply(\n",
    "    lambda x: \", \".join(sorted(set(x))))\n",
    "\n",
    "\n",
    "def get_visit_diagnosis_mapping(rid):\n",
    "    subset = df[df[\"RID\"] == rid]\n",
    "    visit_dx_dict = {}\n",
    "    for _, row in subset.iterrows():\n",
    "        if row[\"VISCODE\"] == \"bl\":\n",
    "            visit_dx_dict[row[\"VISCODE\"]] = row[\"DX_bl\"]  \n",
    "        else:\n",
    "            visit_dx_dict[row[\"VISCODE\"]] = row[\"DX\"]  \n",
    "    return visit_dx_dict\n",
    "\n",
    "\n",
    "expanded_rows = []\n",
    "for rid in df[\"RID\"].unique():\n",
    "    visit_dx_map = get_visit_diagnosis_mapping(rid)\n",
    "    for visit, dx in visit_dx_map.items():\n",
    "        expanded_rows.append({\"RID\": rid, \"Visit\": visit, \"Diagnosis\": dx})\n",
    "\n",
    "df_expanded = pd.DataFrame(expanded_rows)\n",
    "\n",
    "visit_order = sorted(df_expanded[\"Visit\"].unique(), key=lambda x: (\n",
    "    x[0], int(x[1:])) if x != \"bl\" else (\"a\", 0))\n",
    "df_expanded[\"Visit\"] = pd.Categorical(\n",
    "    df_expanded[\"Visit\"], categories=visit_order, ordered=True)\n",
    "\n",
    "df_expanded[\"Node\"] = df_expanded[\"Visit\"].astype(\n",
    "    str) + \"_\" + df_expanded[\"Diagnosis\"]"
   ]
  },
  {
   "cell_type": "code",
   "execution_count": 10,
   "metadata": {},
   "outputs": [],
   "source": [
    "from collections import Counter\n",
    "nodes = list(df_expanded[\"Node\"].unique())\n",
    "node_indices = {node: i for i, node in enumerate(nodes)}\n",
    "\n",
    "links = []\n",
    "for rid in df_expanded[\"RID\"].unique():\n",
    "    subset = df_expanded[df_expanded[\"RID\"] == rid].sort_values(\"Visit\")\n",
    "    previous_node = None\n",
    "    for _, row in subset.iterrows():\n",
    "        current_node = row[\"Node\"]\n",
    "        if previous_node is not None:\n",
    "            links.append(\n",
    "                {\"source\": node_indices[previous_node], \"target\": node_indices[current_node]})\n",
    "        previous_node = current_node\n",
    "\n",
    "link_counts = Counter((link[\"source\"], link[\"target\"]) for link in links)\n",
    "\n",
    "source_nodes, target_nodes, values = zip(\n",
    "    *[(s, t, count) for (s, t), count in link_counts.items()])"
   ]
  },
  {
   "cell_type": "code",
   "execution_count": null,
   "metadata": {},
   "outputs": [
    {
     "data": {
      "application/vnd.plotly.v1+json": {
       "config": {
        "plotlyServerURL": "https://plot.ly"
       },
       "data": [
        {
         "link": {
          "source": [
           6,
           7,
           0,
           3,
           3,
           7,
           0,
           3,
           0,
           7,
           7,
           6,
           3,
           6,
           5,
           5,
           5,
           5
          ],
          "target": [
           1,
           2,
           4,
           2,
           0,
           1,
           2,
           4,
           1,
           4,
           0,
           4,
           1,
           2,
           0,
           2,
           4,
           1
          ],
          "value": [
           289,
           281,
           201,
           26,
           173,
           209,
           50,
           151,
           16,
           178,
           22,
           117,
           3,
           5,
           33,
           248,
           95,
           47
          ]
         },
         "node": {
          "color": "lightblue",
          "label": [
           "CN",
           "Dementia",
           "MCI",
           "SMC",
           "Unknown",
           "EMCI",
           "AD",
           "LMCI"
          ],
          "pad": 20,
          "thickness": 20
         },
         "type": "sankey"
        }
       ],
       "layout": {
        "font": {
         "size": 12
        },
        "template": {
         "data": {
          "bar": [
           {
            "error_x": {
             "color": "#2a3f5f"
            },
            "error_y": {
             "color": "#2a3f5f"
            },
            "marker": {
             "line": {
              "color": "#E5ECF6",
              "width": 0.5
             },
             "pattern": {
              "fillmode": "overlay",
              "size": 10,
              "solidity": 0.2
             }
            },
            "type": "bar"
           }
          ],
          "barpolar": [
           {
            "marker": {
             "line": {
              "color": "#E5ECF6",
              "width": 0.5
             },
             "pattern": {
              "fillmode": "overlay",
              "size": 10,
              "solidity": 0.2
             }
            },
            "type": "barpolar"
           }
          ],
          "carpet": [
           {
            "aaxis": {
             "endlinecolor": "#2a3f5f",
             "gridcolor": "white",
             "linecolor": "white",
             "minorgridcolor": "white",
             "startlinecolor": "#2a3f5f"
            },
            "baxis": {
             "endlinecolor": "#2a3f5f",
             "gridcolor": "white",
             "linecolor": "white",
             "minorgridcolor": "white",
             "startlinecolor": "#2a3f5f"
            },
            "type": "carpet"
           }
          ],
          "choropleth": [
           {
            "colorbar": {
             "outlinewidth": 0,
             "ticks": ""
            },
            "type": "choropleth"
           }
          ],
          "contour": [
           {
            "colorbar": {
             "outlinewidth": 0,
             "ticks": ""
            },
            "colorscale": [
             [
              0,
              "#0d0887"
             ],
             [
              0.1111111111111111,
              "#46039f"
             ],
             [
              0.2222222222222222,
              "#7201a8"
             ],
             [
              0.3333333333333333,
              "#9c179e"
             ],
             [
              0.4444444444444444,
              "#bd3786"
             ],
             [
              0.5555555555555556,
              "#d8576b"
             ],
             [
              0.6666666666666666,
              "#ed7953"
             ],
             [
              0.7777777777777778,
              "#fb9f3a"
             ],
             [
              0.8888888888888888,
              "#fdca26"
             ],
             [
              1,
              "#f0f921"
             ]
            ],
            "type": "contour"
           }
          ],
          "contourcarpet": [
           {
            "colorbar": {
             "outlinewidth": 0,
             "ticks": ""
            },
            "type": "contourcarpet"
           }
          ],
          "heatmap": [
           {
            "colorbar": {
             "outlinewidth": 0,
             "ticks": ""
            },
            "colorscale": [
             [
              0,
              "#0d0887"
             ],
             [
              0.1111111111111111,
              "#46039f"
             ],
             [
              0.2222222222222222,
              "#7201a8"
             ],
             [
              0.3333333333333333,
              "#9c179e"
             ],
             [
              0.4444444444444444,
              "#bd3786"
             ],
             [
              0.5555555555555556,
              "#d8576b"
             ],
             [
              0.6666666666666666,
              "#ed7953"
             ],
             [
              0.7777777777777778,
              "#fb9f3a"
             ],
             [
              0.8888888888888888,
              "#fdca26"
             ],
             [
              1,
              "#f0f921"
             ]
            ],
            "type": "heatmap"
           }
          ],
          "histogram": [
           {
            "marker": {
             "pattern": {
              "fillmode": "overlay",
              "size": 10,
              "solidity": 0.2
             }
            },
            "type": "histogram"
           }
          ],
          "histogram2d": [
           {
            "colorbar": {
             "outlinewidth": 0,
             "ticks": ""
            },
            "colorscale": [
             [
              0,
              "#0d0887"
             ],
             [
              0.1111111111111111,
              "#46039f"
             ],
             [
              0.2222222222222222,
              "#7201a8"
             ],
             [
              0.3333333333333333,
              "#9c179e"
             ],
             [
              0.4444444444444444,
              "#bd3786"
             ],
             [
              0.5555555555555556,
              "#d8576b"
             ],
             [
              0.6666666666666666,
              "#ed7953"
             ],
             [
              0.7777777777777778,
              "#fb9f3a"
             ],
             [
              0.8888888888888888,
              "#fdca26"
             ],
             [
              1,
              "#f0f921"
             ]
            ],
            "type": "histogram2d"
           }
          ],
          "histogram2dcontour": [
           {
            "colorbar": {
             "outlinewidth": 0,
             "ticks": ""
            },
            "colorscale": [
             [
              0,
              "#0d0887"
             ],
             [
              0.1111111111111111,
              "#46039f"
             ],
             [
              0.2222222222222222,
              "#7201a8"
             ],
             [
              0.3333333333333333,
              "#9c179e"
             ],
             [
              0.4444444444444444,
              "#bd3786"
             ],
             [
              0.5555555555555556,
              "#d8576b"
             ],
             [
              0.6666666666666666,
              "#ed7953"
             ],
             [
              0.7777777777777778,
              "#fb9f3a"
             ],
             [
              0.8888888888888888,
              "#fdca26"
             ],
             [
              1,
              "#f0f921"
             ]
            ],
            "type": "histogram2dcontour"
           }
          ],
          "mesh3d": [
           {
            "colorbar": {
             "outlinewidth": 0,
             "ticks": ""
            },
            "type": "mesh3d"
           }
          ],
          "parcoords": [
           {
            "line": {
             "colorbar": {
              "outlinewidth": 0,
              "ticks": ""
             }
            },
            "type": "parcoords"
           }
          ],
          "pie": [
           {
            "automargin": true,
            "type": "pie"
           }
          ],
          "scatter": [
           {
            "fillpattern": {
             "fillmode": "overlay",
             "size": 10,
             "solidity": 0.2
            },
            "type": "scatter"
           }
          ],
          "scatter3d": [
           {
            "line": {
             "colorbar": {
              "outlinewidth": 0,
              "ticks": ""
             }
            },
            "marker": {
             "colorbar": {
              "outlinewidth": 0,
              "ticks": ""
             }
            },
            "type": "scatter3d"
           }
          ],
          "scattercarpet": [
           {
            "marker": {
             "colorbar": {
              "outlinewidth": 0,
              "ticks": ""
             }
            },
            "type": "scattercarpet"
           }
          ],
          "scattergeo": [
           {
            "marker": {
             "colorbar": {
              "outlinewidth": 0,
              "ticks": ""
             }
            },
            "type": "scattergeo"
           }
          ],
          "scattergl": [
           {
            "marker": {
             "colorbar": {
              "outlinewidth": 0,
              "ticks": ""
             }
            },
            "type": "scattergl"
           }
          ],
          "scattermap": [
           {
            "marker": {
             "colorbar": {
              "outlinewidth": 0,
              "ticks": ""
             }
            },
            "type": "scattermap"
           }
          ],
          "scattermapbox": [
           {
            "marker": {
             "colorbar": {
              "outlinewidth": 0,
              "ticks": ""
             }
            },
            "type": "scattermapbox"
           }
          ],
          "scatterpolar": [
           {
            "marker": {
             "colorbar": {
              "outlinewidth": 0,
              "ticks": ""
             }
            },
            "type": "scatterpolar"
           }
          ],
          "scatterpolargl": [
           {
            "marker": {
             "colorbar": {
              "outlinewidth": 0,
              "ticks": ""
             }
            },
            "type": "scatterpolargl"
           }
          ],
          "scatterternary": [
           {
            "marker": {
             "colorbar": {
              "outlinewidth": 0,
              "ticks": ""
             }
            },
            "type": "scatterternary"
           }
          ],
          "surface": [
           {
            "colorbar": {
             "outlinewidth": 0,
             "ticks": ""
            },
            "colorscale": [
             [
              0,
              "#0d0887"
             ],
             [
              0.1111111111111111,
              "#46039f"
             ],
             [
              0.2222222222222222,
              "#7201a8"
             ],
             [
              0.3333333333333333,
              "#9c179e"
             ],
             [
              0.4444444444444444,
              "#bd3786"
             ],
             [
              0.5555555555555556,
              "#d8576b"
             ],
             [
              0.6666666666666666,
              "#ed7953"
             ],
             [
              0.7777777777777778,
              "#fb9f3a"
             ],
             [
              0.8888888888888888,
              "#fdca26"
             ],
             [
              1,
              "#f0f921"
             ]
            ],
            "type": "surface"
           }
          ],
          "table": [
           {
            "cells": {
             "fill": {
              "color": "#EBF0F8"
             },
             "line": {
              "color": "white"
             }
            },
            "header": {
             "fill": {
              "color": "#C8D4E3"
             },
             "line": {
              "color": "white"
             }
            },
            "type": "table"
           }
          ]
         },
         "layout": {
          "annotationdefaults": {
           "arrowcolor": "#2a3f5f",
           "arrowhead": 0,
           "arrowwidth": 1
          },
          "autotypenumbers": "strict",
          "coloraxis": {
           "colorbar": {
            "outlinewidth": 0,
            "ticks": ""
           }
          },
          "colorscale": {
           "diverging": [
            [
             0,
             "#8e0152"
            ],
            [
             0.1,
             "#c51b7d"
            ],
            [
             0.2,
             "#de77ae"
            ],
            [
             0.3,
             "#f1b6da"
            ],
            [
             0.4,
             "#fde0ef"
            ],
            [
             0.5,
             "#f7f7f7"
            ],
            [
             0.6,
             "#e6f5d0"
            ],
            [
             0.7,
             "#b8e186"
            ],
            [
             0.8,
             "#7fbc41"
            ],
            [
             0.9,
             "#4d9221"
            ],
            [
             1,
             "#276419"
            ]
           ],
           "sequential": [
            [
             0,
             "#0d0887"
            ],
            [
             0.1111111111111111,
             "#46039f"
            ],
            [
             0.2222222222222222,
             "#7201a8"
            ],
            [
             0.3333333333333333,
             "#9c179e"
            ],
            [
             0.4444444444444444,
             "#bd3786"
            ],
            [
             0.5555555555555556,
             "#d8576b"
            ],
            [
             0.6666666666666666,
             "#ed7953"
            ],
            [
             0.7777777777777778,
             "#fb9f3a"
            ],
            [
             0.8888888888888888,
             "#fdca26"
            ],
            [
             1,
             "#f0f921"
            ]
           ],
           "sequentialminus": [
            [
             0,
             "#0d0887"
            ],
            [
             0.1111111111111111,
             "#46039f"
            ],
            [
             0.2222222222222222,
             "#7201a8"
            ],
            [
             0.3333333333333333,
             "#9c179e"
            ],
            [
             0.4444444444444444,
             "#bd3786"
            ],
            [
             0.5555555555555556,
             "#d8576b"
            ],
            [
             0.6666666666666666,
             "#ed7953"
            ],
            [
             0.7777777777777778,
             "#fb9f3a"
            ],
            [
             0.8888888888888888,
             "#fdca26"
            ],
            [
             1,
             "#f0f921"
            ]
           ]
          },
          "colorway": [
           "#636efa",
           "#EF553B",
           "#00cc96",
           "#ab63fa",
           "#FFA15A",
           "#19d3f3",
           "#FF6692",
           "#B6E880",
           "#FF97FF",
           "#FECB52"
          ],
          "font": {
           "color": "#2a3f5f"
          },
          "geo": {
           "bgcolor": "white",
           "lakecolor": "white",
           "landcolor": "#E5ECF6",
           "showlakes": true,
           "showland": true,
           "subunitcolor": "white"
          },
          "hoverlabel": {
           "align": "left"
          },
          "hovermode": "closest",
          "mapbox": {
           "style": "light"
          },
          "paper_bgcolor": "white",
          "plot_bgcolor": "#E5ECF6",
          "polar": {
           "angularaxis": {
            "gridcolor": "white",
            "linecolor": "white",
            "ticks": ""
           },
           "bgcolor": "#E5ECF6",
           "radialaxis": {
            "gridcolor": "white",
            "linecolor": "white",
            "ticks": ""
           }
          },
          "scene": {
           "xaxis": {
            "backgroundcolor": "#E5ECF6",
            "gridcolor": "white",
            "gridwidth": 2,
            "linecolor": "white",
            "showbackground": true,
            "ticks": "",
            "zerolinecolor": "white"
           },
           "yaxis": {
            "backgroundcolor": "#E5ECF6",
            "gridcolor": "white",
            "gridwidth": 2,
            "linecolor": "white",
            "showbackground": true,
            "ticks": "",
            "zerolinecolor": "white"
           },
           "zaxis": {
            "backgroundcolor": "#E5ECF6",
            "gridcolor": "white",
            "gridwidth": 2,
            "linecolor": "white",
            "showbackground": true,
            "ticks": "",
            "zerolinecolor": "white"
           }
          },
          "shapedefaults": {
           "line": {
            "color": "#2a3f5f"
           }
          },
          "ternary": {
           "aaxis": {
            "gridcolor": "white",
            "linecolor": "white",
            "ticks": ""
           },
           "baxis": {
            "gridcolor": "white",
            "linecolor": "white",
            "ticks": ""
           },
           "bgcolor": "#E5ECF6",
           "caxis": {
            "gridcolor": "white",
            "linecolor": "white",
            "ticks": ""
           }
          },
          "title": {
           "x": 0.05
          },
          "xaxis": {
           "automargin": true,
           "gridcolor": "white",
           "linecolor": "white",
           "ticks": "",
           "title": {
            "standoff": 15
           },
           "zerolinecolor": "white",
           "zerolinewidth": 2
          },
          "yaxis": {
           "automargin": true,
           "gridcolor": "white",
           "linecolor": "white",
           "ticks": "",
           "title": {
            "standoff": 15
           },
           "zerolinecolor": "white",
           "zerolinewidth": 2
          }
         }
        },
        "title": {
         "text": "Alluvial Plot of Diagnosis Transitions"
        }
       }
      }
     },
     "metadata": {},
     "output_type": "display_data"
    }
   ],
   "source": [
    "transition_data = []\n",
    "\n",
    "for rid in df[\"RID\"].unique():\n",
    "    subset = df[df[\"RID\"] == rid].sort_values(\"VISCODE\")\n",
    "\n",
    "    first_dx = subset[\"DX_bl\"].iloc[0]\n",
    "\n",
    "    dx_followups = subset[\"DX\"].dropna()\n",
    "    if len(dx_followups) > 0:  \n",
    "        last_dx = dx_followups.iloc[-1]\n",
    "    else:\n",
    "        last_dx = first_dx \n",
    "\n",
    "\n",
    "    if first_dx != last_dx:\n",
    "        transition_data.append((first_dx, last_dx))\n",
    "\n",
    "transition_counts = Counter(transition_data)\n",
    "\n",
    "\n",
    "source_nodes, target_nodes, values = zip(\n",
    "    *[(s, t, count) for (s, t), count in transition_counts.items()])\n",
    "\n",
    "nodes = list(set(source_nodes).union(set(target_nodes)))\n",
    "node_indices = {node: i for i, node in enumerate(nodes)}\n",
    "\n",
    "source_indices = [node_indices[s] for s in source_nodes]\n",
    "target_indices = [node_indices[t] for t in target_nodes]\n",
    "\n",
    "fig = go.Figure(go.Sankey(\n",
    "    node=dict(\n",
    "        pad=20,\n",
    "        thickness=20,\n",
    "        label=nodes,\n",
    "        color=\"lightblue\"\n",
    "    ),\n",
    "    link=dict(\n",
    "        source=source_indices,\n",
    "        target=target_indices,\n",
    "        value=values\n",
    "    )\n",
    "))\n",
    "\n",
    "fig.update_layout(\n",
    "    title_text=\"Alluvial Plot of Diagnosis Transitions\", font_size=12)\n",
    "fig.show()"
   ]
  },
  {
   "cell_type": "code",
   "execution_count": 45,
   "metadata": {},
   "outputs": [],
   "source": [
    "cn_follow_up = follow_up_summary[follow_up_summary[\"Total_Visits\"] > 2]\n",
    "\n",
    "cn_follow_up = cn_follow_up[cn_follow_up[\"Visit_Codes\"].apply(\n",
    "    lambda x: x.get(\"bl\", None)) == \"CN\"]\n",
    "\n",
    "transition_data = []\n",
    "\n",
    "for _, row in cn_follow_up.iterrows():\n",
    "    rid = row[\"RID\"]\n",
    "    visit_codes = row[\"Visit_Codes\"] \n",
    "\n",
    "    transitions = list(visit_codes.values())\n",
    "    visit_keys = list(visit_codes.keys())\n",
    "\n",
    "    if len(set(transitions)) > 1:  \n",
    "        first_dx = transitions[0]  \n",
    "        last_dx = transitions[-1] \n",
    "        total_visits = row[\"Total_Visits\"]\n",
    "\n",
    "        transition_data.append({\n",
    "            \"RID\": rid,\n",
    "            \"Baseline_DX\": first_dx,\n",
    "            \"Final_DX\": last_dx,\n",
    "            \"All_Diagnoses\": transitions,\n",
    "            \"Visit_Codes\": visit_keys,\n",
    "            \"Total_Visits\": total_visits\n",
    "        })\n",
    "\n",
    "cn_transition_df = pd.DataFrame(transition_data)"
   ]
  },
  {
   "cell_type": "code",
   "execution_count": 60,
   "metadata": {},
   "outputs": [
    {
     "data": {
      "text/html": [
       "<div>\n",
       "<style scoped>\n",
       "    .dataframe tbody tr th:only-of-type {\n",
       "        vertical-align: middle;\n",
       "    }\n",
       "\n",
       "    .dataframe tbody tr th {\n",
       "        vertical-align: top;\n",
       "    }\n",
       "\n",
       "    .dataframe thead th {\n",
       "        text-align: right;\n",
       "    }\n",
       "</style>\n",
       "<table border=\"1\" class=\"dataframe\">\n",
       "  <thead>\n",
       "    <tr style=\"text-align: right;\">\n",
       "      <th></th>\n",
       "      <th>RID</th>\n",
       "      <th>Total_Visits</th>\n",
       "      <th>Phases</th>\n",
       "      <th>Visit_Codes</th>\n",
       "    </tr>\n",
       "  </thead>\n",
       "  <tbody>\n",
       "    <tr>\n",
       "      <th>345</th>\n",
       "      <td>605</td>\n",
       "      <td>25</td>\n",
       "      <td>ADNI1, ADNI2, ADNI3, ADNIGO</td>\n",
       "      <td>{'bl': 'CN', 'm06': 'CN', 'm108': 'MCI', 'm12'...</td>\n",
       "    </tr>\n",
       "    <tr>\n",
       "      <th>46</th>\n",
       "      <td>74</td>\n",
       "      <td>24</td>\n",
       "      <td>ADNI1, ADNI2, ADNI3, ADNIGO</td>\n",
       "      <td>{'bl': 'CN', 'm06': 'CN', 'm108': 'CN', 'm12':...</td>\n",
       "    </tr>\n",
       "    <tr>\n",
       "      <th>385</th>\n",
       "      <td>679</td>\n",
       "      <td>24</td>\n",
       "      <td>ADNI1, ADNI2, ADNI3</td>\n",
       "      <td>{'bl': 'LMCI', 'm06': 'MCI', 'm108': 'MCI', 'm...</td>\n",
       "    </tr>\n",
       "    <tr>\n",
       "      <th>111</th>\n",
       "      <td>178</td>\n",
       "      <td>24</td>\n",
       "      <td>ADNI1, ADNI2, ADNI3, ADNIGO</td>\n",
       "      <td>{'bl': 'LMCI', 'm06': 'MCI', 'm108': 'MCI', 'm...</td>\n",
       "    </tr>\n",
       "    <tr>\n",
       "      <th>98</th>\n",
       "      <td>159</td>\n",
       "      <td>23</td>\n",
       "      <td>ADNI1, ADNI2, ADNI3, ADNIGO</td>\n",
       "      <td>{'bl': 'CN', 'm06': 'CN', 'm108': 'CN', 'm12':...</td>\n",
       "    </tr>\n",
       "    <tr>\n",
       "      <th>...</th>\n",
       "      <td>...</td>\n",
       "      <td>...</td>\n",
       "      <td>...</td>\n",
       "      <td>...</td>\n",
       "    </tr>\n",
       "    <tr>\n",
       "      <th>2051</th>\n",
       "      <td>6495</td>\n",
       "      <td>1</td>\n",
       "      <td>ADNI3</td>\n",
       "      <td>{'bl': 'SMC'}</td>\n",
       "    </tr>\n",
       "    <tr>\n",
       "      <th>2048</th>\n",
       "      <td>6492</td>\n",
       "      <td>1</td>\n",
       "      <td>ADNI3</td>\n",
       "      <td>{'bl': 'CN'}</td>\n",
       "    </tr>\n",
       "    <tr>\n",
       "      <th>820</th>\n",
       "      <td>2003</td>\n",
       "      <td>1</td>\n",
       "      <td>ADNIGO</td>\n",
       "      <td>{'bl': 'EMCI'}</td>\n",
       "    </tr>\n",
       "    <tr>\n",
       "      <th>823</th>\n",
       "      <td>2011</td>\n",
       "      <td>1</td>\n",
       "      <td>ADNIGO</td>\n",
       "      <td>{'bl': 'EMCI'}</td>\n",
       "    </tr>\n",
       "    <tr>\n",
       "      <th>2429</th>\n",
       "      <td>7125</td>\n",
       "      <td>1</td>\n",
       "      <td>ADNI3</td>\n",
       "      <td>{'bl': 'Unknown'}</td>\n",
       "    </tr>\n",
       "  </tbody>\n",
       "</table>\n",
       "<p>2430 rows × 4 columns</p>\n",
       "</div>"
      ],
      "text/plain": [
       "       RID  Total_Visits                       Phases  \\\n",
       "345    605            25  ADNI1, ADNI2, ADNI3, ADNIGO   \n",
       "46      74            24  ADNI1, ADNI2, ADNI3, ADNIGO   \n",
       "385    679            24          ADNI1, ADNI2, ADNI3   \n",
       "111    178            24  ADNI1, ADNI2, ADNI3, ADNIGO   \n",
       "98     159            23  ADNI1, ADNI2, ADNI3, ADNIGO   \n",
       "...    ...           ...                          ...   \n",
       "2051  6495             1                        ADNI3   \n",
       "2048  6492             1                        ADNI3   \n",
       "820   2003             1                       ADNIGO   \n",
       "823   2011             1                       ADNIGO   \n",
       "2429  7125             1                        ADNI3   \n",
       "\n",
       "                                            Visit_Codes  \n",
       "345   {'bl': 'CN', 'm06': 'CN', 'm108': 'MCI', 'm12'...  \n",
       "46    {'bl': 'CN', 'm06': 'CN', 'm108': 'CN', 'm12':...  \n",
       "385   {'bl': 'LMCI', 'm06': 'MCI', 'm108': 'MCI', 'm...  \n",
       "111   {'bl': 'LMCI', 'm06': 'MCI', 'm108': 'MCI', 'm...  \n",
       "98    {'bl': 'CN', 'm06': 'CN', 'm108': 'CN', 'm12':...  \n",
       "...                                                 ...  \n",
       "2051                                      {'bl': 'SMC'}  \n",
       "2048                                       {'bl': 'CN'}  \n",
       "820                                      {'bl': 'EMCI'}  \n",
       "823                                      {'bl': 'EMCI'}  \n",
       "2429                                  {'bl': 'Unknown'}  \n",
       "\n",
       "[2430 rows x 4 columns]"
      ]
     },
     "execution_count": 60,
     "metadata": {},
     "output_type": "execute_result"
    }
   ],
   "source": [
    "follow_up_summary"
   ]
  },
  {
   "cell_type": "code",
   "execution_count": 62,
   "metadata": {},
   "outputs": [],
   "source": [
    "df = adnimerge[[\"RID\", \"VISCODE\", \"DX_bl\", \"DX\", \"COLPROT\"]]\n",
    "\n",
    "# Count total participants in each ADNI phase\n",
    "adni_phase_counts = df.groupby(\"COLPROT\")[\"RID\"].nunique().reset_index()\n",
    "adni_phase_counts.columns = [\"ADNI_Phase\", \"Total_Participants\"]\n",
    "\n",
    "# Count how many participants have follow-ups in multiple ADNI phases\n",
    "longitudinal_participants = df.groupby(\n",
    "    \"RID\")[\"COLPROT\"].nunique().reset_index()\n",
    "longitudinal_participants.columns = [\"RID\", \"Number_of_Phases\"]\n",
    "multi_phase_counts = longitudinal_participants[\"Number_of_Phases\"].value_counts(\n",
    ").sort_index()\n",
    "\n",
    "# Filter participants with multiple phases\n",
    "multi_phase_rids = longitudinal_participants[longitudinal_participants[\"Number_of_Phases\"] > 1]"
   ]
  },
  {
   "cell_type": "code",
   "execution_count": 65,
   "metadata": {},
   "outputs": [
    {
     "name": "stderr",
     "output_type": "stream",
     "text": [
      "C:\\Users\\anisr\\AppData\\Local\\Temp\\ipykernel_1312\\3229251533.py:2: FutureWarning:\n",
      "\n",
      "\n",
      "\n",
      "Passing `palette` without assigning `hue` is deprecated and will be removed in v0.14.0. Assign the `x` variable to `hue` and set `legend=False` for the same effect.\n",
      "\n",
      "\n"
     ]
    },
    {
     "data": {
      "image/png": "[encoded data removed]",
      "text/plain": [
       "<Figure size 800x500 with 1 Axes>"
      ]
     },
     "metadata": {},
     "output_type": "display_data"
    }
   ],
   "source": [
    "plt.figure(figsize=(8, 5))\n",
    "sns.barplot(x=multi_phase_counts.index,\n",
    "            y=multi_phase_counts.values, palette=\"coolwarm\")\n",
    "plt.xlabel(\"Number of ADNI Phases a Participant Appears In\")\n",
    "plt.ylabel(\"Number of Participants\")\n",
    "plt.title(\"Distribution of Participants Across Multiple ADNI Phases\")\n",
    "plt.xticks(rotation=45)\n",
    "plt.grid(axis='y', linestyle=\"--\", alpha=0.7)\n",
    "plt.show()"
   ]
  },
  {
   "cell_type": "code",
   "execution_count": 82,
   "metadata": {},
   "outputs": [
    {
     "data": {
      "text/html": [
       "<div>\n",
       "<style scoped>\n",
       "    .dataframe tbody tr th:only-of-type {\n",
       "        vertical-align: middle;\n",
       "    }\n",
       "\n",
       "    .dataframe tbody tr th {\n",
       "        vertical-align: top;\n",
       "    }\n",
       "\n",
       "    .dataframe thead th {\n",
       "        text-align: right;\n",
       "    }\n",
       "</style>\n",
       "<table border=\"1\" class=\"dataframe\">\n",
       "  <thead>\n",
       "    <tr style=\"text-align: right;\">\n",
       "      <th></th>\n",
       "      <th>RID</th>\n",
       "      <th>Total_Visits</th>\n",
       "      <th>Phases</th>\n",
       "      <th>Visit_Codes</th>\n",
       "    </tr>\n",
       "  </thead>\n",
       "  <tbody>\n",
       "    <tr>\n",
       "      <th>987</th>\n",
       "      <td>4063</td>\n",
       "      <td>11</td>\n",
       "      <td>ADNI2</td>\n",
       "      <td>{'bl': 'EMCI', 'm03': 'Unknown', 'm06': 'MCI',...</td>\n",
       "    </tr>\n",
       "    <tr>\n",
       "      <th>1003</th>\n",
       "      <td>4089</td>\n",
       "      <td>11</td>\n",
       "      <td>ADNI2</td>\n",
       "      <td>{'bl': 'AD', 'm03': 'Unknown', 'm06': 'Dementi...</td>\n",
       "    </tr>\n",
       "    <tr>\n",
       "      <th>1162</th>\n",
       "      <td>4338</td>\n",
       "      <td>11</td>\n",
       "      <td>ADNI2</td>\n",
       "      <td>{'bl': 'AD', 'm03': 'Unknown', 'm06': 'Dementi...</td>\n",
       "    </tr>\n",
       "    <tr>\n",
       "      <th>1044</th>\n",
       "      <td>4162</td>\n",
       "      <td>10</td>\n",
       "      <td>ADNI2</td>\n",
       "      <td>{'bl': 'LMCI', 'm03': 'Unknown', 'm06': 'MCI',...</td>\n",
       "    </tr>\n",
       "    <tr>\n",
       "      <th>1028</th>\n",
       "      <td>4136</td>\n",
       "      <td>10</td>\n",
       "      <td>ADNI2</td>\n",
       "      <td>{'bl': 'AD', 'm03': 'Unknown', 'm06': 'Dementi...</td>\n",
       "    </tr>\n",
       "    <tr>\n",
       "      <th>...</th>\n",
       "      <td>...</td>\n",
       "      <td>...</td>\n",
       "      <td>...</td>\n",
       "      <td>...</td>\n",
       "    </tr>\n",
       "    <tr>\n",
       "      <th>1851</th>\n",
       "      <td>6199</td>\n",
       "      <td>2</td>\n",
       "      <td>ADNI3</td>\n",
       "      <td>{'bl': 'CN', 'm12': 'MCI'}</td>\n",
       "    </tr>\n",
       "    <tr>\n",
       "      <th>2333</th>\n",
       "      <td>6956</td>\n",
       "      <td>2</td>\n",
       "      <td>ADNI3</td>\n",
       "      <td>{'bl': 'SMC', 'm12': 'Unknown'}</td>\n",
       "    </tr>\n",
       "    <tr>\n",
       "      <th>2042</th>\n",
       "      <td>6479</td>\n",
       "      <td>2</td>\n",
       "      <td>ADNI3</td>\n",
       "      <td>{'bl': 'LMCI', 'm12': 'MCI'}</td>\n",
       "    </tr>\n",
       "    <tr>\n",
       "      <th>1696</th>\n",
       "      <td>5231</td>\n",
       "      <td>2</td>\n",
       "      <td>ADNI2</td>\n",
       "      <td>{'bl': 'AD', 'm06': 'Dementia'}</td>\n",
       "    </tr>\n",
       "    <tr>\n",
       "      <th>1901</th>\n",
       "      <td>6278</td>\n",
       "      <td>2</td>\n",
       "      <td>ADNI3</td>\n",
       "      <td>{'bl': 'SMC', 'm24': 'Unknown'}</td>\n",
       "    </tr>\n",
       "  </tbody>\n",
       "</table>\n",
       "<p>1482 rows × 4 columns</p>\n",
       "</div>"
      ],
      "text/plain": [
       "       RID  Total_Visits Phases  \\\n",
       "987   4063            11  ADNI2   \n",
       "1003  4089            11  ADNI2   \n",
       "1162  4338            11  ADNI2   \n",
       "1044  4162            10  ADNI2   \n",
       "1028  4136            10  ADNI2   \n",
       "...    ...           ...    ...   \n",
       "1851  6199             2  ADNI3   \n",
       "2333  6956             2  ADNI3   \n",
       "2042  6479             2  ADNI3   \n",
       "1696  5231             2  ADNI2   \n",
       "1901  6278             2  ADNI3   \n",
       "\n",
       "                                            Visit_Codes  \n",
       "987   {'bl': 'EMCI', 'm03': 'Unknown', 'm06': 'MCI',...  \n",
       "1003  {'bl': 'AD', 'm03': 'Unknown', 'm06': 'Dementi...  \n",
       "1162  {'bl': 'AD', 'm03': 'Unknown', 'm06': 'Dementi...  \n",
       "1044  {'bl': 'LMCI', 'm03': 'Unknown', 'm06': 'MCI',...  \n",
       "1028  {'bl': 'AD', 'm03': 'Unknown', 'm06': 'Dementi...  \n",
       "...                                                 ...  \n",
       "1851                         {'bl': 'CN', 'm12': 'MCI'}  \n",
       "2333                    {'bl': 'SMC', 'm12': 'Unknown'}  \n",
       "2042                       {'bl': 'LMCI', 'm12': 'MCI'}  \n",
       "1696                    {'bl': 'AD', 'm06': 'Dementia'}  \n",
       "1901                    {'bl': 'SMC', 'm24': 'Unknown'}  \n",
       "\n",
       "[1482 rows x 4 columns]"
      ]
     },
     "execution_count": 82,
     "metadata": {},
     "output_type": "execute_result"
    }
   ],
   "source": [
    "follow_up_summary[(follow_up_summary['Phases'].apply(lambda x: len(x.split(', ')) == 1)) & (follow_up_summary['Total_Visits'] > 1)]"
   ]
  },
  {
   "cell_type": "code",
   "execution_count": 96,
   "metadata": {},
   "outputs": [],
   "source": [
    "df = adnimerge[['RID','VISCODE','DX_bl','DX']]\n",
    "transition_data = []\n",
    "\n",
    "for rid in df[\"RID\"].unique():\n",
    "    subset = df[df[\"RID\"] == rid].sort_values(\"VISCODE\")\n",
    "\n",
    "    # Get baseline diagnosis\n",
    "    baseline_dx = subset[\"DX_bl\"].iloc[0]\n",
    "\n",
    "    # Get all follow-up diagnoses\n",
    "    follow_up_dx = subset[\"DX\"].dropna().unique()\n",
    "\n",
    "    # Check if the participant transitioned to another diagnosis\n",
    "    if len(set(follow_up_dx)) > 1:\n",
    "        converted = \"Yes\"\n",
    "        final_dx = follow_up_dx[-1]  # Last recorded diagnosis\n",
    "    else:\n",
    "        converted = \"No\"\n",
    "        final_dx = baseline_dx  # If no conversion, final remains the same\n",
    "\n",
    "    # Store results\n",
    "    transition_data.append({\n",
    "        \"RID\": rid,\n",
    "        \"Baseline_DX\": baseline_dx,\n",
    "        \"Converted?\": converted,\n",
    "        \"Final_DX\": final_dx\n",
    "    })\n",
    "\n",
    "# Convert to DataFrame\n",
    "transition_df = pd.DataFrame(transition_data)\n",
    "\n",
    "# Create summary table\n",
    "conversion_summary = transition_df.groupby(\n",
    "    [\"Baseline_DX\", \"Converted?\", \"Final_DX\"]).agg({\"RID\": \"count\"}).reset_index()\n",
    "conversion_summary = conversion_summary.rename(\n",
    "    columns={\"RID\": \"Number of Participants\"})"
   ]
  },
  {
   "cell_type": "code",
   "execution_count": 97,
   "metadata": {},
   "outputs": [
    {
     "data": {
      "text/html": [
       "<div>\n",
       "<style scoped>\n",
       "    .dataframe tbody tr th:only-of-type {\n",
       "        vertical-align: middle;\n",
       "    }\n",
       "\n",
       "    .dataframe tbody tr th {\n",
       "        vertical-align: top;\n",
       "    }\n",
       "\n",
       "    .dataframe thead th {\n",
       "        text-align: right;\n",
       "    }\n",
       "</style>\n",
       "<table border=\"1\" class=\"dataframe\">\n",
       "  <thead>\n",
       "    <tr style=\"text-align: right;\">\n",
       "      <th></th>\n",
       "      <th>Baseline_DX</th>\n",
       "      <th>Converted?</th>\n",
       "      <th>Final_DX</th>\n",
       "      <th>Number of Participants</th>\n",
       "    </tr>\n",
       "  </thead>\n",
       "  <tbody>\n",
       "    <tr>\n",
       "      <th>0</th>\n",
       "      <td>AD</td>\n",
       "      <td>No</td>\n",
       "      <td>AD</td>\n",
       "      <td>405</td>\n",
       "    </tr>\n",
       "    <tr>\n",
       "      <th>1</th>\n",
       "      <td>AD</td>\n",
       "      <td>Yes</td>\n",
       "      <td>MCI</td>\n",
       "      <td>6</td>\n",
       "    </tr>\n",
       "    <tr>\n",
       "      <th>2</th>\n",
       "      <td>CN</td>\n",
       "      <td>No</td>\n",
       "      <td>CN</td>\n",
       "      <td>432</td>\n",
       "    </tr>\n",
       "    <tr>\n",
       "      <th>3</th>\n",
       "      <td>CN</td>\n",
       "      <td>Yes</td>\n",
       "      <td>Dementia</td>\n",
       "      <td>19</td>\n",
       "    </tr>\n",
       "    <tr>\n",
       "      <th>4</th>\n",
       "      <td>CN</td>\n",
       "      <td>Yes</td>\n",
       "      <td>MCI</td>\n",
       "      <td>91</td>\n",
       "    </tr>\n",
       "    <tr>\n",
       "      <th>5</th>\n",
       "      <td>EMCI</td>\n",
       "      <td>No</td>\n",
       "      <td>EMCI</td>\n",
       "      <td>301</td>\n",
       "    </tr>\n",
       "    <tr>\n",
       "      <th>6</th>\n",
       "      <td>EMCI</td>\n",
       "      <td>Yes</td>\n",
       "      <td>CN</td>\n",
       "      <td>56</td>\n",
       "    </tr>\n",
       "    <tr>\n",
       "      <th>7</th>\n",
       "      <td>EMCI</td>\n",
       "      <td>Yes</td>\n",
       "      <td>Dementia</td>\n",
       "      <td>65</td>\n",
       "    </tr>\n",
       "    <tr>\n",
       "      <th>8</th>\n",
       "      <td>EMCI</td>\n",
       "      <td>Yes</td>\n",
       "      <td>MCI</td>\n",
       "      <td>1</td>\n",
       "    </tr>\n",
       "    <tr>\n",
       "      <th>9</th>\n",
       "      <td>LMCI</td>\n",
       "      <td>No</td>\n",
       "      <td>LMCI</td>\n",
       "      <td>338</td>\n",
       "    </tr>\n",
       "    <tr>\n",
       "      <th>10</th>\n",
       "      <td>LMCI</td>\n",
       "      <td>Yes</td>\n",
       "      <td>CN</td>\n",
       "      <td>39</td>\n",
       "    </tr>\n",
       "    <tr>\n",
       "      <th>11</th>\n",
       "      <td>LMCI</td>\n",
       "      <td>Yes</td>\n",
       "      <td>Dementia</td>\n",
       "      <td>312</td>\n",
       "    </tr>\n",
       "    <tr>\n",
       "      <th>12</th>\n",
       "      <td>LMCI</td>\n",
       "      <td>Yes</td>\n",
       "      <td>MCI</td>\n",
       "      <td>1</td>\n",
       "    </tr>\n",
       "    <tr>\n",
       "      <th>13</th>\n",
       "      <td>SMC</td>\n",
       "      <td>No</td>\n",
       "      <td>SMC</td>\n",
       "      <td>317</td>\n",
       "    </tr>\n",
       "    <tr>\n",
       "      <th>14</th>\n",
       "      <td>SMC</td>\n",
       "      <td>Yes</td>\n",
       "      <td>Dementia</td>\n",
       "      <td>4</td>\n",
       "    </tr>\n",
       "    <tr>\n",
       "      <th>15</th>\n",
       "      <td>SMC</td>\n",
       "      <td>Yes</td>\n",
       "      <td>MCI</td>\n",
       "      <td>32</td>\n",
       "    </tr>\n",
       "  </tbody>\n",
       "</table>\n",
       "</div>"
      ],
      "text/plain": [
       "   Baseline_DX Converted?  Final_DX  Number of Participants\n",
       "0           AD         No        AD                     405\n",
       "1           AD        Yes       MCI                       6\n",
       "2           CN         No        CN                     432\n",
       "3           CN        Yes  Dementia                      19\n",
       "4           CN        Yes       MCI                      91\n",
       "5         EMCI         No      EMCI                     301\n",
       "6         EMCI        Yes        CN                      56\n",
       "7         EMCI        Yes  Dementia                      65\n",
       "8         EMCI        Yes       MCI                       1\n",
       "9         LMCI         No      LMCI                     338\n",
       "10        LMCI        Yes        CN                      39\n",
       "11        LMCI        Yes  Dementia                     312\n",
       "12        LMCI        Yes       MCI                       1\n",
       "13         SMC         No       SMC                     317\n",
       "14         SMC        Yes  Dementia                       4\n",
       "15         SMC        Yes       MCI                      32"
      ]
     },
     "execution_count": 97,
     "metadata": {},
     "output_type": "execute_result"
    }
   ],
   "source": [
    "conversion_summary"
   ]
  },
  {
   "cell_type": "code",
   "execution_count": 98,
   "metadata": {},
   "outputs": [
    {
     "data": {
      "text/plain": [
       "2419"
      ]
     },
     "execution_count": 98,
     "metadata": {},
     "output_type": "execute_result"
    }
   ],
   "source": [
    "conversion_summary['Number of Participants'].sum()"
   ]
  },
  {
   "cell_type": "code",
   "execution_count": 102,
   "metadata": {},
   "outputs": [
    {
     "data": {
      "text/html": [
       "<div>\n",
       "<style scoped>\n",
       "    .dataframe tbody tr th:only-of-type {\n",
       "        vertical-align: middle;\n",
       "    }\n",
       "\n",
       "    .dataframe tbody tr th {\n",
       "        vertical-align: top;\n",
       "    }\n",
       "\n",
       "    .dataframe thead th {\n",
       "        text-align: right;\n",
       "    }\n",
       "</style>\n",
       "<table border=\"1\" class=\"dataframe\">\n",
       "  <thead>\n",
       "    <tr style=\"text-align: right;\">\n",
       "      <th></th>\n",
       "      <th>RID</th>\n",
       "      <th>COLPROT</th>\n",
       "      <th>ORIGPROT</th>\n",
       "      <th>PTID</th>\n",
       "      <th>SITE</th>\n",
       "      <th>VISCODE</th>\n",
       "      <th>EXAMDATE</th>\n",
       "      <th>DX_bl</th>\n",
       "      <th>AGE</th>\n",
       "      <th>PTGENDER</th>\n",
       "      <th>...</th>\n",
       "      <th>PTAU_bl</th>\n",
       "      <th>FDG_bl</th>\n",
       "      <th>PIB_bl</th>\n",
       "      <th>AV45_bl</th>\n",
       "      <th>FBB_bl</th>\n",
       "      <th>Years_bl</th>\n",
       "      <th>Month_bl</th>\n",
       "      <th>Month</th>\n",
       "      <th>M</th>\n",
       "      <th>update_stamp</th>\n",
       "    </tr>\n",
       "  </thead>\n",
       "  <tbody>\n",
       "    <tr>\n",
       "      <th>0</th>\n",
       "      <td>2</td>\n",
       "      <td>ADNI1</td>\n",
       "      <td>ADNI1</td>\n",
       "      <td>011_S_0002</td>\n",
       "      <td>11</td>\n",
       "      <td>bl</td>\n",
       "      <td>2005-09-08</td>\n",
       "      <td>CN</td>\n",
       "      <td>74.3</td>\n",
       "      <td>Male</td>\n",
       "      <td>...</td>\n",
       "      <td>NaN</td>\n",
       "      <td>1.33615</td>\n",
       "      <td>NaN</td>\n",
       "      <td>NaN</td>\n",
       "      <td>NaN</td>\n",
       "      <td>0.000000</td>\n",
       "      <td>0.00000</td>\n",
       "      <td>0</td>\n",
       "      <td>0</td>\n",
       "      <td>2023-07-07 04:59:40.0</td>\n",
       "    </tr>\n",
       "    <tr>\n",
       "      <th>1</th>\n",
       "      <td>3</td>\n",
       "      <td>ADNI1</td>\n",
       "      <td>ADNI1</td>\n",
       "      <td>011_S_0003</td>\n",
       "      <td>11</td>\n",
       "      <td>bl</td>\n",
       "      <td>2005-09-12</td>\n",
       "      <td>AD</td>\n",
       "      <td>81.3</td>\n",
       "      <td>Male</td>\n",
       "      <td>...</td>\n",
       "      <td>22.83</td>\n",
       "      <td>1.10860</td>\n",
       "      <td>NaN</td>\n",
       "      <td>NaN</td>\n",
       "      <td>NaN</td>\n",
       "      <td>0.000000</td>\n",
       "      <td>0.00000</td>\n",
       "      <td>0</td>\n",
       "      <td>0</td>\n",
       "      <td>2023-07-07 04:59:40.0</td>\n",
       "    </tr>\n",
       "    <tr>\n",
       "      <th>2</th>\n",
       "      <td>3</td>\n",
       "      <td>ADNI1</td>\n",
       "      <td>ADNI1</td>\n",
       "      <td>011_S_0003</td>\n",
       "      <td>11</td>\n",
       "      <td>m06</td>\n",
       "      <td>2006-03-13</td>\n",
       "      <td>AD</td>\n",
       "      <td>81.3</td>\n",
       "      <td>Male</td>\n",
       "      <td>...</td>\n",
       "      <td>22.83</td>\n",
       "      <td>1.10860</td>\n",
       "      <td>NaN</td>\n",
       "      <td>NaN</td>\n",
       "      <td>NaN</td>\n",
       "      <td>0.498289</td>\n",
       "      <td>5.96721</td>\n",
       "      <td>6</td>\n",
       "      <td>6</td>\n",
       "      <td>2023-07-07 04:59:40.0</td>\n",
       "    </tr>\n",
       "    <tr>\n",
       "      <th>3</th>\n",
       "      <td>3</td>\n",
       "      <td>ADNI1</td>\n",
       "      <td>ADNI1</td>\n",
       "      <td>011_S_0003</td>\n",
       "      <td>11</td>\n",
       "      <td>m12</td>\n",
       "      <td>2006-09-12</td>\n",
       "      <td>AD</td>\n",
       "      <td>81.3</td>\n",
       "      <td>Male</td>\n",
       "      <td>...</td>\n",
       "      <td>22.83</td>\n",
       "      <td>1.10860</td>\n",
       "      <td>NaN</td>\n",
       "      <td>NaN</td>\n",
       "      <td>NaN</td>\n",
       "      <td>0.999316</td>\n",
       "      <td>11.96720</td>\n",
       "      <td>12</td>\n",
       "      <td>12</td>\n",
       "      <td>2023-07-07 04:59:40.0</td>\n",
       "    </tr>\n",
       "    <tr>\n",
       "      <th>4</th>\n",
       "      <td>3</td>\n",
       "      <td>ADNI1</td>\n",
       "      <td>ADNI1</td>\n",
       "      <td>011_S_0003</td>\n",
       "      <td>11</td>\n",
       "      <td>m24</td>\n",
       "      <td>2007-09-12</td>\n",
       "      <td>AD</td>\n",
       "      <td>81.3</td>\n",
       "      <td>Male</td>\n",
       "      <td>...</td>\n",
       "      <td>22.83</td>\n",
       "      <td>1.10860</td>\n",
       "      <td>NaN</td>\n",
       "      <td>NaN</td>\n",
       "      <td>NaN</td>\n",
       "      <td>1.998630</td>\n",
       "      <td>23.93440</td>\n",
       "      <td>24</td>\n",
       "      <td>24</td>\n",
       "      <td>2023-07-07 04:59:40.0</td>\n",
       "    </tr>\n",
       "    <tr>\n",
       "      <th>...</th>\n",
       "      <td>...</td>\n",
       "      <td>...</td>\n",
       "      <td>...</td>\n",
       "      <td>...</td>\n",
       "      <td>...</td>\n",
       "      <td>...</td>\n",
       "      <td>...</td>\n",
       "      <td>...</td>\n",
       "      <td>...</td>\n",
       "      <td>...</td>\n",
       "      <td>...</td>\n",
       "      <td>...</td>\n",
       "      <td>...</td>\n",
       "      <td>...</td>\n",
       "      <td>...</td>\n",
       "      <td>...</td>\n",
       "      <td>...</td>\n",
       "      <td>...</td>\n",
       "      <td>...</td>\n",
       "      <td>...</td>\n",
       "      <td>...</td>\n",
       "    </tr>\n",
       "    <tr>\n",
       "      <th>16416</th>\n",
       "      <td>4349</td>\n",
       "      <td>ADNI3</td>\n",
       "      <td>ADNI2</td>\n",
       "      <td>018_S_4349</td>\n",
       "      <td>18</td>\n",
       "      <td>m138</td>\n",
       "      <td>2023-03-30</td>\n",
       "      <td>CN</td>\n",
       "      <td>71.4</td>\n",
       "      <td>Female</td>\n",
       "      <td>...</td>\n",
       "      <td>17.82</td>\n",
       "      <td>1.33353</td>\n",
       "      <td>NaN</td>\n",
       "      <td>1.0344</td>\n",
       "      <td>NaN</td>\n",
       "      <td>11.351100</td>\n",
       "      <td>135.93400</td>\n",
       "      <td>138</td>\n",
       "      <td>138</td>\n",
       "      <td>2023-08-22 04:58:56.0</td>\n",
       "    </tr>\n",
       "    <tr>\n",
       "      <th>16417</th>\n",
       "      <td>6801</td>\n",
       "      <td>ADNI3</td>\n",
       "      <td>ADNI3</td>\n",
       "      <td>041_S_6801</td>\n",
       "      <td>41</td>\n",
       "      <td>m42</td>\n",
       "      <td>2023-06-30</td>\n",
       "      <td>SMC</td>\n",
       "      <td>61.0</td>\n",
       "      <td>Female</td>\n",
       "      <td>...</td>\n",
       "      <td>NaN</td>\n",
       "      <td>NaN</td>\n",
       "      <td>NaN</td>\n",
       "      <td>1.1509</td>\n",
       "      <td>NaN</td>\n",
       "      <td>3.701570</td>\n",
       "      <td>44.32790</td>\n",
       "      <td>42</td>\n",
       "      <td>42</td>\n",
       "      <td>2023-08-25 05:00:03.0</td>\n",
       "    </tr>\n",
       "    <tr>\n",
       "      <th>16418</th>\n",
       "      <td>5097</td>\n",
       "      <td>ADNI3</td>\n",
       "      <td>ADNI2</td>\n",
       "      <td>041_S_5097</td>\n",
       "      <td>41</td>\n",
       "      <td>m126</td>\n",
       "      <td>2023-08-16</td>\n",
       "      <td>SMC</td>\n",
       "      <td>67.5</td>\n",
       "      <td>Male</td>\n",
       "      <td>...</td>\n",
       "      <td>16.48</td>\n",
       "      <td>1.20863</td>\n",
       "      <td>NaN</td>\n",
       "      <td>1.1086</td>\n",
       "      <td>NaN</td>\n",
       "      <td>10.371000</td>\n",
       "      <td>124.19700</td>\n",
       "      <td>126</td>\n",
       "      <td>126</td>\n",
       "      <td>2023-08-26 05:00:28.0</td>\n",
       "    </tr>\n",
       "    <tr>\n",
       "      <th>16419</th>\n",
       "      <td>6515</td>\n",
       "      <td>ADNI3</td>\n",
       "      <td>ADNI3</td>\n",
       "      <td>007_S_6515</td>\n",
       "      <td>7</td>\n",
       "      <td>m60</td>\n",
       "      <td>2023-08-24</td>\n",
       "      <td>SMC</td>\n",
       "      <td>89.9</td>\n",
       "      <td>Female</td>\n",
       "      <td>...</td>\n",
       "      <td>NaN</td>\n",
       "      <td>NaN</td>\n",
       "      <td>NaN</td>\n",
       "      <td>NaN</td>\n",
       "      <td>1.1475</td>\n",
       "      <td>5.004790</td>\n",
       "      <td>59.93440</td>\n",
       "      <td>60</td>\n",
       "      <td>60</td>\n",
       "      <td>2023-08-29 04:58:51.0</td>\n",
       "    </tr>\n",
       "    <tr>\n",
       "      <th>16420</th>\n",
       "      <td>5214</td>\n",
       "      <td>ADNI3</td>\n",
       "      <td>ADNI2</td>\n",
       "      <td>126_S_5214</td>\n",
       "      <td>126</td>\n",
       "      <td>m120</td>\n",
       "      <td>2023-09-06</td>\n",
       "      <td>SMC</td>\n",
       "      <td>69.6</td>\n",
       "      <td>Female</td>\n",
       "      <td>...</td>\n",
       "      <td>14.56</td>\n",
       "      <td>1.37442</td>\n",
       "      <td>NaN</td>\n",
       "      <td>1.0208</td>\n",
       "      <td>NaN</td>\n",
       "      <td>10.157400</td>\n",
       "      <td>121.63900</td>\n",
       "      <td>120</td>\n",
       "      <td>120</td>\n",
       "      <td>2023-09-07 04:59:52.0</td>\n",
       "    </tr>\n",
       "  </tbody>\n",
       "</table>\n",
       "<p>16421 rows × 116 columns</p>\n",
       "</div>"
      ],
      "text/plain": [
       "        RID COLPROT ORIGPROT        PTID  SITE VISCODE    EXAMDATE DX_bl  \\\n",
       "0         2   ADNI1    ADNI1  011_S_0002    11      bl  2005-09-08    CN   \n",
       "1         3   ADNI1    ADNI1  011_S_0003    11      bl  2005-09-12    AD   \n",
       "2         3   ADNI1    ADNI1  011_S_0003    11     m06  2006-03-13    AD   \n",
       "3         3   ADNI1    ADNI1  011_S_0003    11     m12  2006-09-12    AD   \n",
       "4         3   ADNI1    ADNI1  011_S_0003    11     m24  2007-09-12    AD   \n",
       "...     ...     ...      ...         ...   ...     ...         ...   ...   \n",
       "16416  4349   ADNI3    ADNI2  018_S_4349    18    m138  2023-03-30    CN   \n",
       "16417  6801   ADNI3    ADNI3  041_S_6801    41     m42  2023-06-30   SMC   \n",
       "16418  5097   ADNI3    ADNI2  041_S_5097    41    m126  2023-08-16   SMC   \n",
       "16419  6515   ADNI3    ADNI3  007_S_6515     7     m60  2023-08-24   SMC   \n",
       "16420  5214   ADNI3    ADNI2  126_S_5214   126    m120  2023-09-06   SMC   \n",
       "\n",
       "        AGE PTGENDER  ...  PTAU_bl   FDG_bl PIB_bl AV45_bl  FBB_bl   Years_bl  \\\n",
       "0      74.3     Male  ...      NaN  1.33615    NaN     NaN     NaN   0.000000   \n",
       "1      81.3     Male  ...    22.83  1.10860    NaN     NaN     NaN   0.000000   \n",
       "2      81.3     Male  ...    22.83  1.10860    NaN     NaN     NaN   0.498289   \n",
       "3      81.3     Male  ...    22.83  1.10860    NaN     NaN     NaN   0.999316   \n",
       "4      81.3     Male  ...    22.83  1.10860    NaN     NaN     NaN   1.998630   \n",
       "...     ...      ...  ...      ...      ...    ...     ...     ...        ...   \n",
       "16416  71.4   Female  ...    17.82  1.33353    NaN  1.0344     NaN  11.351100   \n",
       "16417  61.0   Female  ...      NaN      NaN    NaN  1.1509     NaN   3.701570   \n",
       "16418  67.5     Male  ...    16.48  1.20863    NaN  1.1086     NaN  10.371000   \n",
       "16419  89.9   Female  ...      NaN      NaN    NaN     NaN  1.1475   5.004790   \n",
       "16420  69.6   Female  ...    14.56  1.37442    NaN  1.0208     NaN  10.157400   \n",
       "\n",
       "        Month_bl  Month    M           update_stamp  \n",
       "0        0.00000      0    0  2023-07-07 04:59:40.0  \n",
       "1        0.00000      0    0  2023-07-07 04:59:40.0  \n",
       "2        5.96721      6    6  2023-07-07 04:59:40.0  \n",
       "3       11.96720     12   12  2023-07-07 04:59:40.0  \n",
       "4       23.93440     24   24  2023-07-07 04:59:40.0  \n",
       "...          ...    ...  ...                    ...  \n",
       "16416  135.93400    138  138  2023-08-22 04:58:56.0  \n",
       "16417   44.32790     42   42  2023-08-25 05:00:03.0  \n",
       "16418  124.19700    126  126  2023-08-26 05:00:28.0  \n",
       "16419   59.93440     60   60  2023-08-29 04:58:51.0  \n",
       "16420  121.63900    120  120  2023-09-07 04:59:52.0  \n",
       "\n",
       "[16421 rows x 116 columns]"
      ]
     },
     "execution_count": 102,
     "metadata": {},
     "output_type": "execute_result"
    }
   ],
   "source": [
    "adnimerge"
   ]
  },
  {
   "cell_type": "code",
   "execution_count": 81,
   "metadata": {},
   "outputs": [
    {
     "data": {
      "text/plain": [
       "2430"
      ]
     },
     "execution_count": 81,
     "metadata": {},
     "output_type": "execute_result"
    }
   ],
   "source": [
    "adnimerge['RID'].nunique()"
   ]
  },
  {
   "cell_type": "code",
   "execution_count": 3,
   "metadata": {},
   "outputs": [
    {
     "data": {
      "text/plain": [
       "2430"
      ]
     },
     "execution_count": 3,
     "metadata": {},
     "output_type": "execute_result"
    }
   ],
   "source": [
    "adnimerge['RID'].nunique()"
   ]
  },
  {
   "cell_type": "code",
   "execution_count": 4,
   "metadata": {},
   "outputs": [],
   "source": [
    "adni_use = adnimerge[['RID','COLPROT','ORIGPROT','VISCODE','DX_bl','DX','AGE','M']]"
   ]
  },
  {
   "cell_type": "code",
   "execution_count": 5,
   "metadata": {},
   "outputs": [
    {
     "data": {
      "text/html": [
       "<div>\n",
       "<style scoped>\n",
       "    .dataframe tbody tr th:only-of-type {\n",
       "        vertical-align: middle;\n",
       "    }\n",
       "\n",
       "    .dataframe tbody tr th {\n",
       "        vertical-align: top;\n",
       "    }\n",
       "\n",
       "    .dataframe thead th {\n",
       "        text-align: right;\n",
       "    }\n",
       "</style>\n",
       "<table border=\"1\" class=\"dataframe\">\n",
       "  <thead>\n",
       "    <tr style=\"text-align: right;\">\n",
       "      <th></th>\n",
       "      <th>RID</th>\n",
       "      <th>COLPROT</th>\n",
       "      <th>ORIGPROT</th>\n",
       "      <th>VISCODE</th>\n",
       "      <th>DX_bl</th>\n",
       "      <th>DX</th>\n",
       "      <th>AGE</th>\n",
       "      <th>M</th>\n",
       "    </tr>\n",
       "  </thead>\n",
       "  <tbody>\n",
       "    <tr>\n",
       "      <th>0</th>\n",
       "      <td>2</td>\n",
       "      <td>ADNI1</td>\n",
       "      <td>ADNI1</td>\n",
       "      <td>bl</td>\n",
       "      <td>CN</td>\n",
       "      <td>CN</td>\n",
       "      <td>74.3</td>\n",
       "      <td>0</td>\n",
       "    </tr>\n",
       "    <tr>\n",
       "      <th>1</th>\n",
       "      <td>3</td>\n",
       "      <td>ADNI1</td>\n",
       "      <td>ADNI1</td>\n",
       "      <td>bl</td>\n",
       "      <td>AD</td>\n",
       "      <td>Dementia</td>\n",
       "      <td>81.3</td>\n",
       "      <td>0</td>\n",
       "    </tr>\n",
       "    <tr>\n",
       "      <th>2</th>\n",
       "      <td>3</td>\n",
       "      <td>ADNI1</td>\n",
       "      <td>ADNI1</td>\n",
       "      <td>m06</td>\n",
       "      <td>AD</td>\n",
       "      <td>Dementia</td>\n",
       "      <td>81.3</td>\n",
       "      <td>6</td>\n",
       "    </tr>\n",
       "    <tr>\n",
       "      <th>3</th>\n",
       "      <td>3</td>\n",
       "      <td>ADNI1</td>\n",
       "      <td>ADNI1</td>\n",
       "      <td>m12</td>\n",
       "      <td>AD</td>\n",
       "      <td>Dementia</td>\n",
       "      <td>81.3</td>\n",
       "      <td>12</td>\n",
       "    </tr>\n",
       "    <tr>\n",
       "      <th>4</th>\n",
       "      <td>3</td>\n",
       "      <td>ADNI1</td>\n",
       "      <td>ADNI1</td>\n",
       "      <td>m24</td>\n",
       "      <td>AD</td>\n",
       "      <td>Dementia</td>\n",
       "      <td>81.3</td>\n",
       "      <td>24</td>\n",
       "    </tr>\n",
       "    <tr>\n",
       "      <th>...</th>\n",
       "      <td>...</td>\n",
       "      <td>...</td>\n",
       "      <td>...</td>\n",
       "      <td>...</td>\n",
       "      <td>...</td>\n",
       "      <td>...</td>\n",
       "      <td>...</td>\n",
       "      <td>...</td>\n",
       "    </tr>\n",
       "    <tr>\n",
       "      <th>16416</th>\n",
       "      <td>4349</td>\n",
       "      <td>ADNI3</td>\n",
       "      <td>ADNI2</td>\n",
       "      <td>m138</td>\n",
       "      <td>CN</td>\n",
       "      <td>NaN</td>\n",
       "      <td>71.4</td>\n",
       "      <td>138</td>\n",
       "    </tr>\n",
       "    <tr>\n",
       "      <th>16417</th>\n",
       "      <td>6801</td>\n",
       "      <td>ADNI3</td>\n",
       "      <td>ADNI3</td>\n",
       "      <td>m42</td>\n",
       "      <td>SMC</td>\n",
       "      <td>NaN</td>\n",
       "      <td>61.0</td>\n",
       "      <td>42</td>\n",
       "    </tr>\n",
       "    <tr>\n",
       "      <th>16418</th>\n",
       "      <td>5097</td>\n",
       "      <td>ADNI3</td>\n",
       "      <td>ADNI2</td>\n",
       "      <td>m126</td>\n",
       "      <td>SMC</td>\n",
       "      <td>NaN</td>\n",
       "      <td>67.5</td>\n",
       "      <td>126</td>\n",
       "    </tr>\n",
       "    <tr>\n",
       "      <th>16419</th>\n",
       "      <td>6515</td>\n",
       "      <td>ADNI3</td>\n",
       "      <td>ADNI3</td>\n",
       "      <td>m60</td>\n",
       "      <td>SMC</td>\n",
       "      <td>NaN</td>\n",
       "      <td>89.9</td>\n",
       "      <td>60</td>\n",
       "    </tr>\n",
       "    <tr>\n",
       "      <th>16420</th>\n",
       "      <td>5214</td>\n",
       "      <td>ADNI3</td>\n",
       "      <td>ADNI2</td>\n",
       "      <td>m120</td>\n",
       "      <td>SMC</td>\n",
       "      <td>NaN</td>\n",
       "      <td>69.6</td>\n",
       "      <td>120</td>\n",
       "    </tr>\n",
       "  </tbody>\n",
       "</table>\n",
       "<p>16421 rows × 8 columns</p>\n",
       "</div>"
      ],
      "text/plain": [
       "        RID COLPROT ORIGPROT VISCODE DX_bl        DX   AGE    M\n",
       "0         2   ADNI1    ADNI1      bl    CN        CN  74.3    0\n",
       "1         3   ADNI1    ADNI1      bl    AD  Dementia  81.3    0\n",
       "2         3   ADNI1    ADNI1     m06    AD  Dementia  81.3    6\n",
       "3         3   ADNI1    ADNI1     m12    AD  Dementia  81.3   12\n",
       "4         3   ADNI1    ADNI1     m24    AD  Dementia  81.3   24\n",
       "...     ...     ...      ...     ...   ...       ...   ...  ...\n",
       "16416  4349   ADNI3    ADNI2    m138    CN       NaN  71.4  138\n",
       "16417  6801   ADNI3    ADNI3     m42   SMC       NaN  61.0   42\n",
       "16418  5097   ADNI3    ADNI2    m126   SMC       NaN  67.5  126\n",
       "16419  6515   ADNI3    ADNI3     m60   SMC       NaN  89.9   60\n",
       "16420  5214   ADNI3    ADNI2    m120   SMC       NaN  69.6  120\n",
       "\n",
       "[16421 rows x 8 columns]"
      ]
     },
     "execution_count": 5,
     "metadata": {},
     "output_type": "execute_result"
    }
   ],
   "source": [
    "adni_use"
   ]
  },
  {
   "cell_type": "code",
   "execution_count": 6,
   "metadata": {},
   "outputs": [
    {
     "data": {
      "text/plain": [
       "ADNI1     7267\n",
       "ADNI2     5852\n",
       "ADNI3     2044\n",
       "ADNIGO    1258\n",
       "Name: ORIGPROT, dtype: int64"
      ]
     },
     "execution_count": 6,
     "metadata": {},
     "output_type": "execute_result"
    }
   ],
   "source": [
    "adni_use['ORIGPROT'].value_counts()"
   ]
  },
  {
   "cell_type": "code",
   "execution_count": 7,
   "metadata": {},
   "outputs": [
    {
     "data": {
      "text/plain": [
       "ADNI2     6945\n",
       "ADNI1     5013\n",
       "ADNI3     3659\n",
       "ADNIGO     804\n",
       "Name: COLPROT, dtype: int64"
      ]
     },
     "execution_count": 7,
     "metadata": {},
     "output_type": "execute_result"
    }
   ],
   "source": [
    "adni_use['COLPROT'].value_counts()"
   ]
  },
  {
   "cell_type": "code",
   "execution_count": 8,
   "metadata": {},
   "outputs": [],
   "source": [
    "baseline_adni1 = adni_use[(adni_use['VISCODE'] == 'bl')\n",
    "                          & (adni_use['COLPROT'] == 'ADNI1')]\n",
    "baseline_adni2 = adni_use[(adni_use['VISCODE'] == 'bl')\n",
    "                          & (adni_use['COLPROT'] == 'ADNI2')]"
   ]
  },
  {
   "cell_type": "code",
   "execution_count": 9,
   "metadata": {},
   "outputs": [
    {
     "name": "stdout",
     "output_type": "stream",
     "text": [
      "(819, 8) (790, 8)\n"
     ]
    }
   ],
   "source": [
    "print(baseline_adni1.shape, baseline_adni2.shape)"
   ]
  },
  {
   "cell_type": "code",
   "execution_count": 10,
   "metadata": {},
   "outputs": [],
   "source": [
    "adni_sorted1 = baseline_adni1.sort_values(by=['RID', 'M'])\n",
    "adni_sorted2 = baseline_adni2.sort_values(by=['RID', 'M'])"
   ]
  },
  {
   "cell_type": "code",
   "execution_count": 11,
   "metadata": {},
   "outputs": [],
   "source": [
    "adni_sorted = adni_use.sort_values(by=['RID', 'M'])"
   ]
  },
  {
   "cell_type": "code",
   "execution_count": 12,
   "metadata": {},
   "outputs": [
    {
     "name": "stdout",
     "output_type": "stream",
     "text": [
      "\n",
      "Transition counts:\n",
      "CN → MCI: 177\n",
      "MCI → AD: 414\n"
     ]
    }
   ],
   "source": [
    "cn_to_mci = set()\n",
    "mci_to_ad = set()\n",
    "transitions = []\n",
    "\n",
    "for rid, group in adni_sorted.groupby('RID'):\n",
    "    group = group.dropna(subset=['DX']).sort_values('M')\n",
    "\n",
    "    if group.empty or 'DX_bl' not in group.columns:  \n",
    "        continue  \n",
    "\n",
    "    first_dx = group['DX_bl'].iloc[0] if not group['DX_bl'].isna(\n",
    "    ).all() else None\n",
    "    if first_dx is None:\n",
    "        continue  \n",
    "\n",
    "    previous_dx = first_dx\n",
    "    converted = False  \n",
    "\n",
    "    for _, row in group.iterrows():\n",
    "        current_dx = row['DX']\n",
    "        viscode = row['VISCODE']\n",
    "\n",
    "        if previous_dx == 'CN' and current_dx == 'MCI':\n",
    "            cn_to_mci.add(rid)\n",
    "            transitions.append((rid, viscode, 'CN - MCI'))\n",
    "            converted = True\n",
    "\n",
    "        elif previous_dx == 'MCI' and current_dx == 'Dementia':  \n",
    "            mci_to_ad.add(rid)\n",
    "            transitions.append((rid, viscode, 'MCI - AD'))\n",
    "            converted = True\n",
    "\n",
    "        previous_dx = current_dx\n",
    "\n",
    "transitions_df = pd.DataFrame(\n",
    "    transitions, columns=['RID', 'VISCODE', 'Transition'])\n",
    "\n",
    "print(\"\\nTransition counts:\")\n",
    "print(\"CN → MCI:\", len(cn_to_mci))\n",
    "print(\"MCI → AD:\", len(mci_to_ad))"
   ]
  },
  {
   "cell_type": "code",
   "execution_count": 13,
   "metadata": {},
   "outputs": [
    {
     "data": {
      "text/plain": [
       "2430"
      ]
     },
     "execution_count": 13,
     "metadata": {},
     "output_type": "execute_result"
    }
   ],
   "source": [
    "adni_sorted['RID'].nunique()"
   ]
  },
  {
   "cell_type": "code",
   "execution_count": 14,
   "metadata": {},
   "outputs": [
    {
     "data": {
      "text/html": [
       "<div>\n",
       "<style scoped>\n",
       "    .dataframe tbody tr th:only-of-type {\n",
       "        vertical-align: middle;\n",
       "    }\n",
       "\n",
       "    .dataframe tbody tr th {\n",
       "        vertical-align: top;\n",
       "    }\n",
       "\n",
       "    .dataframe thead th {\n",
       "        text-align: right;\n",
       "    }\n",
       "</style>\n",
       "<table border=\"1\" class=\"dataframe\">\n",
       "  <thead>\n",
       "    <tr style=\"text-align: right;\">\n",
       "      <th></th>\n",
       "      <th>RID</th>\n",
       "      <th>VISCODE</th>\n",
       "      <th>Transition</th>\n",
       "    </tr>\n",
       "  </thead>\n",
       "  <tbody>\n",
       "    <tr>\n",
       "      <th>0</th>\n",
       "      <td>2</td>\n",
       "      <td>m84</td>\n",
       "      <td>CN - MCI</td>\n",
       "    </tr>\n",
       "    <tr>\n",
       "      <th>1</th>\n",
       "      <td>2</td>\n",
       "      <td>m132</td>\n",
       "      <td>CN - MCI</td>\n",
       "    </tr>\n",
       "    <tr>\n",
       "      <th>2</th>\n",
       "      <td>8</td>\n",
       "      <td>m120</td>\n",
       "      <td>CN - MCI</td>\n",
       "    </tr>\n",
       "    <tr>\n",
       "      <th>3</th>\n",
       "      <td>15</td>\n",
       "      <td>m72</td>\n",
       "      <td>CN - MCI</td>\n",
       "    </tr>\n",
       "    <tr>\n",
       "      <th>4</th>\n",
       "      <td>22</td>\n",
       "      <td>m24</td>\n",
       "      <td>CN - MCI</td>\n",
       "    </tr>\n",
       "    <tr>\n",
       "      <th>...</th>\n",
       "      <td>...</td>\n",
       "      <td>...</td>\n",
       "      <td>...</td>\n",
       "    </tr>\n",
       "    <tr>\n",
       "      <th>611</th>\n",
       "      <td>6852</td>\n",
       "      <td>m24</td>\n",
       "      <td>MCI - AD</td>\n",
       "    </tr>\n",
       "    <tr>\n",
       "      <th>612</th>\n",
       "      <td>6908</td>\n",
       "      <td>m30</td>\n",
       "      <td>MCI - AD</td>\n",
       "    </tr>\n",
       "    <tr>\n",
       "      <th>613</th>\n",
       "      <td>6911</td>\n",
       "      <td>m12</td>\n",
       "      <td>MCI - AD</td>\n",
       "    </tr>\n",
       "    <tr>\n",
       "      <th>614</th>\n",
       "      <td>6969</td>\n",
       "      <td>m12</td>\n",
       "      <td>CN - MCI</td>\n",
       "    </tr>\n",
       "    <tr>\n",
       "      <th>615</th>\n",
       "      <td>7088</td>\n",
       "      <td>m12</td>\n",
       "      <td>MCI - AD</td>\n",
       "    </tr>\n",
       "  </tbody>\n",
       "</table>\n",
       "<p>616 rows × 3 columns</p>\n",
       "</div>"
      ],
      "text/plain": [
       "      RID VISCODE Transition\n",
       "0       2     m84   CN - MCI\n",
       "1       2    m132   CN - MCI\n",
       "2       8    m120   CN - MCI\n",
       "3      15     m72   CN - MCI\n",
       "4      22     m24   CN - MCI\n",
       "..    ...     ...        ...\n",
       "611  6852     m24   MCI - AD\n",
       "612  6908     m30   MCI - AD\n",
       "613  6911     m12   MCI - AD\n",
       "614  6969     m12   CN - MCI\n",
       "615  7088     m12   MCI - AD\n",
       "\n",
       "[616 rows x 3 columns]"
      ]
     },
     "execution_count": 14,
     "metadata": {},
     "output_type": "execute_result"
    }
   ],
   "source": [
    "transitions_df"
   ]
  },
  {
   "cell_type": "code",
   "execution_count": 15,
   "metadata": {},
   "outputs": [
    {
     "name": "stdout",
     "output_type": "stream",
     "text": [
      "177 105\n",
      "RIDs that haven't matched: [112, 138, 188, 668, 669, 722, 1074, 1245, 1352, 1408, 2007, 2036, 2123, 2150, 2180, 2187, 2301, 2304, 2315, 4061, 4168, 4199, 4214, 4351, 4359, 4380, 4381, 4512, 4513, 4624, 4706, 4785, 4799, 4813, 5096, 5097, 5121, 5130, 5132, 5135, 5166, 5207, 5214, 5219, 5227, 5234, 5237, 5253, 5258, 5263, 5265, 5273, 5277, 5282, 5285, 5294, 6001, 6033, 6061, 6111, 6173, 6189, 6279, 6291, 6327, 6330, 6333, 6350, 6371, 6411, 6744, 6834, 6969]\n",
      "73\n"
     ]
    }
   ],
   "source": [
    "transitions_rids = sorted(transitions_df[transitions_df['Transition'] == 'CN - MCI']['RID'].unique())\n",
    "\n",
    "adni_sorted_rids = sorted(adni_sorted[(adni_sorted['DX_bl'] == 'CN') & (adni_sorted['DX'] == 'MCI')]['RID'].unique())\n",
    "\n",
    "unmatched_rids = set(transitions_rids) - set(adni_sorted_rids)\n",
    "\n",
    "print(len(transitions_rids), len(adni_sorted_rids))\n",
    "if unmatched_rids:\n",
    "    print(\"RIDs that haven't matched:\", sorted(unmatched_rids))\n",
    "    print(len(unmatched_rids))\n",
    "else:\n",
    "    print(\"All RIDs match.\")"
   ]
  },
  {
   "cell_type": "code",
   "execution_count": 16,
   "metadata": {},
   "outputs": [
    {
     "data": {
      "text/html": [
       "<div>\n",
       "<style scoped>\n",
       "    .dataframe tbody tr th:only-of-type {\n",
       "        vertical-align: middle;\n",
       "    }\n",
       "\n",
       "    .dataframe tbody tr th {\n",
       "        vertical-align: top;\n",
       "    }\n",
       "\n",
       "    .dataframe thead th {\n",
       "        text-align: right;\n",
       "    }\n",
       "</style>\n",
       "<table border=\"1\" class=\"dataframe\">\n",
       "  <thead>\n",
       "    <tr style=\"text-align: right;\">\n",
       "      <th></th>\n",
       "      <th>RID</th>\n",
       "      <th>COLPROT</th>\n",
       "      <th>ORIGPROT</th>\n",
       "      <th>VISCODE</th>\n",
       "      <th>DX_bl</th>\n",
       "      <th>DX</th>\n",
       "      <th>AGE</th>\n",
       "      <th>M</th>\n",
       "    </tr>\n",
       "  </thead>\n",
       "  <tbody>\n",
       "    <tr>\n",
       "      <th>289</th>\n",
       "      <td>112</td>\n",
       "      <td>ADNI1</td>\n",
       "      <td>ADNI1</td>\n",
       "      <td>bl</td>\n",
       "      <td>LMCI</td>\n",
       "      <td>MCI</td>\n",
       "      <td>70.6</td>\n",
       "      <td>0</td>\n",
       "    </tr>\n",
       "    <tr>\n",
       "      <th>290</th>\n",
       "      <td>112</td>\n",
       "      <td>ADNI1</td>\n",
       "      <td>ADNI1</td>\n",
       "      <td>m06</td>\n",
       "      <td>LMCI</td>\n",
       "      <td>CN</td>\n",
       "      <td>70.6</td>\n",
       "      <td>6</td>\n",
       "    </tr>\n",
       "    <tr>\n",
       "      <th>291</th>\n",
       "      <td>112</td>\n",
       "      <td>ADNI1</td>\n",
       "      <td>ADNI1</td>\n",
       "      <td>m12</td>\n",
       "      <td>LMCI</td>\n",
       "      <td>MCI</td>\n",
       "      <td>70.6</td>\n",
       "      <td>12</td>\n",
       "    </tr>\n",
       "    <tr>\n",
       "      <th>292</th>\n",
       "      <td>112</td>\n",
       "      <td>ADNI1</td>\n",
       "      <td>ADNI1</td>\n",
       "      <td>m18</td>\n",
       "      <td>LMCI</td>\n",
       "      <td>MCI</td>\n",
       "      <td>70.6</td>\n",
       "      <td>18</td>\n",
       "    </tr>\n",
       "    <tr>\n",
       "      <th>293</th>\n",
       "      <td>112</td>\n",
       "      <td>ADNI1</td>\n",
       "      <td>ADNI1</td>\n",
       "      <td>m24</td>\n",
       "      <td>LMCI</td>\n",
       "      <td>CN</td>\n",
       "      <td>70.6</td>\n",
       "      <td>24</td>\n",
       "    </tr>\n",
       "    <tr>\n",
       "      <th>...</th>\n",
       "      <td>...</td>\n",
       "      <td>...</td>\n",
       "      <td>...</td>\n",
       "      <td>...</td>\n",
       "      <td>...</td>\n",
       "      <td>...</td>\n",
       "      <td>...</td>\n",
       "      <td>...</td>\n",
       "    </tr>\n",
       "    <tr>\n",
       "      <th>15554</th>\n",
       "      <td>6834</td>\n",
       "      <td>ADNI3</td>\n",
       "      <td>ADNI3</td>\n",
       "      <td>bl</td>\n",
       "      <td>SMC</td>\n",
       "      <td>CN</td>\n",
       "      <td>82.3</td>\n",
       "      <td>0</td>\n",
       "    </tr>\n",
       "    <tr>\n",
       "      <th>16015</th>\n",
       "      <td>6834</td>\n",
       "      <td>ADNI3</td>\n",
       "      <td>ADNI3</td>\n",
       "      <td>m30</td>\n",
       "      <td>SMC</td>\n",
       "      <td>MCI</td>\n",
       "      <td>82.3</td>\n",
       "      <td>30</td>\n",
       "    </tr>\n",
       "    <tr>\n",
       "      <th>13308</th>\n",
       "      <td>6969</td>\n",
       "      <td>ADNI3</td>\n",
       "      <td>ADNI3</td>\n",
       "      <td>bl</td>\n",
       "      <td>SMC</td>\n",
       "      <td>CN</td>\n",
       "      <td>68.5</td>\n",
       "      <td>0</td>\n",
       "    </tr>\n",
       "    <tr>\n",
       "      <th>16029</th>\n",
       "      <td>6969</td>\n",
       "      <td>ADNI3</td>\n",
       "      <td>ADNI3</td>\n",
       "      <td>m12</td>\n",
       "      <td>SMC</td>\n",
       "      <td>MCI</td>\n",
       "      <td>68.5</td>\n",
       "      <td>12</td>\n",
       "    </tr>\n",
       "    <tr>\n",
       "      <th>16393</th>\n",
       "      <td>6969</td>\n",
       "      <td>ADNI3</td>\n",
       "      <td>ADNI3</td>\n",
       "      <td>m24</td>\n",
       "      <td>SMC</td>\n",
       "      <td>MCI</td>\n",
       "      <td>68.5</td>\n",
       "      <td>24</td>\n",
       "    </tr>\n",
       "  </tbody>\n",
       "</table>\n",
       "<p>651 rows × 8 columns</p>\n",
       "</div>"
      ],
      "text/plain": [
       "        RID COLPROT ORIGPROT VISCODE DX_bl   DX   AGE   M\n",
       "289     112   ADNI1    ADNI1      bl  LMCI  MCI  70.6   0\n",
       "290     112   ADNI1    ADNI1     m06  LMCI   CN  70.6   6\n",
       "291     112   ADNI1    ADNI1     m12  LMCI  MCI  70.6  12\n",
       "292     112   ADNI1    ADNI1     m18  LMCI  MCI  70.6  18\n",
       "293     112   ADNI1    ADNI1     m24  LMCI   CN  70.6  24\n",
       "...     ...     ...      ...     ...   ...  ...   ...  ..\n",
       "15554  6834   ADNI3    ADNI3      bl   SMC   CN  82.3   0\n",
       "16015  6834   ADNI3    ADNI3     m30   SMC  MCI  82.3  30\n",
       "13308  6969   ADNI3    ADNI3      bl   SMC   CN  68.5   0\n",
       "16029  6969   ADNI3    ADNI3     m12   SMC  MCI  68.5  12\n",
       "16393  6969   ADNI3    ADNI3     m24   SMC  MCI  68.5  24\n",
       "\n",
       "[651 rows x 8 columns]"
      ]
     },
     "execution_count": 16,
     "metadata": {},
     "output_type": "execute_result"
    }
   ],
   "source": [
    "adni_sorted[adni_sorted['RID'].isin(unmatched_rids)]"
   ]
  },
  {
   "cell_type": "code",
   "execution_count": 17,
   "metadata": {},
   "outputs": [
    {
     "name": "stdout",
     "output_type": "stream",
     "text": [
      "\n",
      "Diagnosis Transitions for ADNI1:\n",
      "      RID VISCODE Transition\n",
      "0       2     m84   CN → MCI\n",
      "1       2    m132   CN → MCI\n",
      "2       8    m120   CN → MCI\n",
      "3      15     m72   CN → MCI\n",
      "4      22     m24   CN → MCI\n",
      "..    ...     ...        ...\n",
      "318  1408     m36   CN → MCI\n",
      "319  1412     m12   MCI → AD\n",
      "320  1423     m12   MCI → AD\n",
      "321  1425     m36   MCI → AD\n",
      "322  1427     m12   MCI → AD\n",
      "\n",
      "[323 rows x 3 columns]\n",
      "\n",
      "Transition counts for ADNI1:\n",
      "CN → MCI: 74\n",
      "MCI → AD: 235\n",
      "Non-Converters: 532\n",
      "\n",
      "Diagnosis Transitions for ADNI2:\n",
      "      RID VISCODE Transition\n",
      "0    4005     m12   MCI → AD\n",
      "1    4015     m24   MCI → AD\n",
      "2    4030     m36   MCI → AD\n",
      "3    4035     m12   MCI → AD\n",
      "4    4041     m06   CN → MCI\n",
      "..    ...     ...        ...\n",
      "203  5277     m48   CN → MCI\n",
      "204  5282     m84   CN → MCI\n",
      "205  5285     m24   CN → MCI\n",
      "206  5285     m54   MCI → AD\n",
      "207  5294     m54   CN → MCI\n",
      "\n",
      "[208 rows x 3 columns]\n",
      "\n",
      "Transition counts for ADNI2:\n",
      "CN → MCI: 74\n",
      "MCI → AD: 127\n",
      "Non-Converters: 593\n"
     ]
    }
   ],
   "source": [
    "def track_diagnosis_transitions(adni_baseline, adni_data, adni_phase):\n",
    "\n",
    "    adni_longitudinal = adni_data[adni_data['RID'].isin(adni_baseline['RID'])]\n",
    "    adni_sorted = adni_longitudinal.sort_values(by=['RID', 'M'])\n",
    "\n",
    "    cn_to_mci = set()\n",
    "    mci_to_ad = set()\n",
    "    transitions = []\n",
    "    non_converters = {}\n",
    "\n",
    "    for rid, group in adni_sorted.groupby('RID'):\n",
    "        group = group.dropna(subset=['DX']).sort_values('M')\n",
    "\n",
    "        if group.empty or 'DX_bl' not in group.columns:\n",
    "            continue  \n",
    "        first_dx = group['DX_bl'].iloc[0] if not group['DX_bl'].isna(\n",
    "        ).all() else None\n",
    "        if first_dx is None:\n",
    "            continue\n",
    "\n",
    "        previous_dx = first_dx\n",
    "        converted = False\n",
    "\n",
    "        for _, row in group.iterrows():\n",
    "            current_dx = row['DX']\n",
    "            viscode = row['VISCODE']\n",
    "\n",
    "            if previous_dx == 'CN' and current_dx == 'MCI':\n",
    "                cn_to_mci.add(rid)\n",
    "                transitions.append((rid, viscode, 'CN → MCI'))\n",
    "                converted = True\n",
    "\n",
    "            elif previous_dx == 'MCI' and current_dx == 'Dementia':\n",
    "                mci_to_ad.add(rid)\n",
    "                transitions.append((rid, viscode, 'MCI → AD'))\n",
    "                converted = True\n",
    "\n",
    "            previous_dx = current_dx\n",
    "\n",
    "        if not converted:\n",
    "            non_converters[rid] = group['VISCODE'].nunique()\n",
    "\n",
    "    transitions_df = pd.DataFrame(\n",
    "        transitions, columns=['RID', 'VISCODE', 'Transition'])\n",
    "\n",
    "    print(f\"\\nDiagnosis Transitions for {adni_phase}:\")\n",
    "    print(transitions_df)\n",
    "\n",
    "    print(f\"\\nTransition counts for {adni_phase}:\")\n",
    "    print(f\"CN → MCI: {len(cn_to_mci)}\")\n",
    "    print(f\"MCI → AD: {len(mci_to_ad)}\")\n",
    "    print(f\"Non-Converters: {len(non_converters)}\")\n",
    "\n",
    "    return transitions_df, non_converters\n",
    "\n",
    "\n",
    "transitions_adni1, non_converters_adni1 = track_diagnosis_transitions(\n",
    "    baseline_adni1, adni_use, \"ADNI1\")\n",
    "transitions_adni2, non_converters_adni2 = track_diagnosis_transitions(\n",
    "    baseline_adni2, adni_use, \"ADNI2\")"
   ]
  },
  {
   "cell_type": "code",
   "execution_count": 18,
   "metadata": {},
   "outputs": [
    {
     "data": {
      "text/plain": [
       "ADNI2     6945\n",
       "ADNI1     5013\n",
       "ADNI3     3659\n",
       "ADNIGO     804\n",
       "Name: COLPROT, dtype: int64"
      ]
     },
     "execution_count": 18,
     "metadata": {},
     "output_type": "execute_result"
    }
   ],
   "source": [
    "adni_use['COLPROT'].value_counts()"
   ]
  },
  {
   "cell_type": "code",
   "execution_count": 19,
   "metadata": {},
   "outputs": [],
   "source": [
    "baseline_adni1 = adni_use[(adni_use['VISCODE'] == 'bl')\n",
    "                          & (adni_use['COLPROT'] == 'ADNI1')]\n",
    "baseline_adni2 = adni_use[(adni_use['VISCODE'] == 'bl')\n",
    "                          & (adni_use['COLPROT'] == 'ADNI2')]\n",
    "baseline_adnigo = adni_use[(adni_use['VISCODE'] == 'bl')\n",
    "                            & (adni_use['COLPROT'] == 'ADNIGO')]\n",
    "baseline_adni3 = adni_use[(adni_use['VISCODE'] == 'bl')\n",
    "                          & (adni_use['COLPROT'] == 'ADNI3')]"
   ]
  },
  {
   "cell_type": "code",
   "execution_count": 20,
   "metadata": {},
   "outputs": [],
   "source": [
    "count_adni1 = baseline_adni1['RID'].nunique()\n",
    "count_adni2 = baseline_adni2['RID'].nunique()\n",
    "count_adnigo = baseline_adnigo['RID'].nunique()\n",
    "count_adni3 = baseline_adni3['RID'].nunique()"
   ]
  },
  {
   "cell_type": "code",
   "execution_count": 21,
   "metadata": {},
   "outputs": [
    {
     "data": {
      "image/png": "[encoded data removed]",
      "text/plain": [
       "<Figure size 1000x600 with 1 Axes>"
      ]
     },
     "metadata": {},
     "output_type": "display_data"
    }
   ],
   "source": [
    "plt.figure(figsize=(10, 6))\n",
    "counts = [count_adni1, count_adni2, count_adnigo, count_adni3]\n",
    "labels = ['ADNI1', 'ADNI2', 'ADNIGO', 'ADNI3']\n",
    "colors = ['blue', 'green', 'red', 'orange']\n",
    "\n",
    "bars = plt.bar(labels, counts, color=colors)\n",
    "\n",
    "for bar in bars:\n",
    "    height = bar.get_height()\n",
    "    plt.annotate(f'{height}',\n",
    "                 xy=(bar.get_x() + bar.get_width() / 2, height),\n",
    "                 xytext=(0, 3),  \n",
    "                 textcoords=\"offset points\",\n",
    "                 ha='center', va='bottom')\n",
    "\n",
    "plt.title(\"Baseline Participants across ADNI1 to ADNI3\")\n",
    "plt.xlabel(\"ADNI Phases\")\n",
    "plt.ylabel(\"Number of Participants\")\n",
    "plt.show()"
   ]
  },
  {
   "cell_type": "code",
   "execution_count": 22,
   "metadata": {},
   "outputs": [
    {
     "data": {
      "text/html": [
       "<div>\n",
       "<style scoped>\n",
       "    .dataframe tbody tr th:only-of-type {\n",
       "        vertical-align: middle;\n",
       "    }\n",
       "\n",
       "    .dataframe tbody tr th {\n",
       "        vertical-align: top;\n",
       "    }\n",
       "\n",
       "    .dataframe thead th {\n",
       "        text-align: right;\n",
       "    }\n",
       "</style>\n",
       "<table border=\"1\" class=\"dataframe\">\n",
       "  <thead>\n",
       "    <tr style=\"text-align: right;\">\n",
       "      <th></th>\n",
       "      <th>RID</th>\n",
       "      <th>COLPROT</th>\n",
       "      <th>ORIGPROT</th>\n",
       "      <th>VISCODE</th>\n",
       "      <th>DX_bl</th>\n",
       "      <th>DX</th>\n",
       "      <th>AGE</th>\n",
       "      <th>M</th>\n",
       "    </tr>\n",
       "  </thead>\n",
       "  <tbody>\n",
       "    <tr>\n",
       "      <th>0</th>\n",
       "      <td>2</td>\n",
       "      <td>ADNI1</td>\n",
       "      <td>ADNI1</td>\n",
       "      <td>bl</td>\n",
       "      <td>CN</td>\n",
       "      <td>CN</td>\n",
       "      <td>74.3</td>\n",
       "      <td>0</td>\n",
       "    </tr>\n",
       "    <tr>\n",
       "      <th>1</th>\n",
       "      <td>3</td>\n",
       "      <td>ADNI1</td>\n",
       "      <td>ADNI1</td>\n",
       "      <td>bl</td>\n",
       "      <td>AD</td>\n",
       "      <td>Dementia</td>\n",
       "      <td>81.3</td>\n",
       "      <td>0</td>\n",
       "    </tr>\n",
       "    <tr>\n",
       "      <th>2</th>\n",
       "      <td>3</td>\n",
       "      <td>ADNI1</td>\n",
       "      <td>ADNI1</td>\n",
       "      <td>m06</td>\n",
       "      <td>AD</td>\n",
       "      <td>Dementia</td>\n",
       "      <td>81.3</td>\n",
       "      <td>6</td>\n",
       "    </tr>\n",
       "    <tr>\n",
       "      <th>3</th>\n",
       "      <td>3</td>\n",
       "      <td>ADNI1</td>\n",
       "      <td>ADNI1</td>\n",
       "      <td>m12</td>\n",
       "      <td>AD</td>\n",
       "      <td>Dementia</td>\n",
       "      <td>81.3</td>\n",
       "      <td>12</td>\n",
       "    </tr>\n",
       "    <tr>\n",
       "      <th>4</th>\n",
       "      <td>3</td>\n",
       "      <td>ADNI1</td>\n",
       "      <td>ADNI1</td>\n",
       "      <td>m24</td>\n",
       "      <td>AD</td>\n",
       "      <td>Dementia</td>\n",
       "      <td>81.3</td>\n",
       "      <td>24</td>\n",
       "    </tr>\n",
       "    <tr>\n",
       "      <th>...</th>\n",
       "      <td>...</td>\n",
       "      <td>...</td>\n",
       "      <td>...</td>\n",
       "      <td>...</td>\n",
       "      <td>...</td>\n",
       "      <td>...</td>\n",
       "      <td>...</td>\n",
       "      <td>...</td>\n",
       "    </tr>\n",
       "    <tr>\n",
       "      <th>16330</th>\n",
       "      <td>734</td>\n",
       "      <td>ADNI3</td>\n",
       "      <td>ADNI1</td>\n",
       "      <td>m198</td>\n",
       "      <td>CN</td>\n",
       "      <td>NaN</td>\n",
       "      <td>72.6</td>\n",
       "      <td>198</td>\n",
       "    </tr>\n",
       "    <tr>\n",
       "      <th>16331</th>\n",
       "      <td>1016</td>\n",
       "      <td>ADNI3</td>\n",
       "      <td>ADNI1</td>\n",
       "      <td>m198</td>\n",
       "      <td>CN</td>\n",
       "      <td>NaN</td>\n",
       "      <td>78.3</td>\n",
       "      <td>198</td>\n",
       "    </tr>\n",
       "    <tr>\n",
       "      <th>16332</th>\n",
       "      <td>1195</td>\n",
       "      <td>ADNI3</td>\n",
       "      <td>ADNI1</td>\n",
       "      <td>m192</td>\n",
       "      <td>CN</td>\n",
       "      <td>NaN</td>\n",
       "      <td>76.9</td>\n",
       "      <td>192</td>\n",
       "    </tr>\n",
       "    <tr>\n",
       "      <th>16366</th>\n",
       "      <td>605</td>\n",
       "      <td>ADNI3</td>\n",
       "      <td>ADNI1</td>\n",
       "      <td>m204</td>\n",
       "      <td>CN</td>\n",
       "      <td>Dementia</td>\n",
       "      <td>75.6</td>\n",
       "      <td>204</td>\n",
       "    </tr>\n",
       "    <tr>\n",
       "      <th>16402</th>\n",
       "      <td>934</td>\n",
       "      <td>ADNI3</td>\n",
       "      <td>ADNI1</td>\n",
       "      <td>m198</td>\n",
       "      <td>CN</td>\n",
       "      <td>NaN</td>\n",
       "      <td>70.0</td>\n",
       "      <td>198</td>\n",
       "    </tr>\n",
       "  </tbody>\n",
       "</table>\n",
       "<p>7267 rows × 8 columns</p>\n",
       "</div>"
      ],
      "text/plain": [
       "        RID COLPROT ORIGPROT VISCODE DX_bl        DX   AGE    M\n",
       "0         2   ADNI1    ADNI1      bl    CN        CN  74.3    0\n",
       "1         3   ADNI1    ADNI1      bl    AD  Dementia  81.3    0\n",
       "2         3   ADNI1    ADNI1     m06    AD  Dementia  81.3    6\n",
       "3         3   ADNI1    ADNI1     m12    AD  Dementia  81.3   12\n",
       "4         3   ADNI1    ADNI1     m24    AD  Dementia  81.3   24\n",
       "...     ...     ...      ...     ...   ...       ...   ...  ...\n",
       "16330   734   ADNI3    ADNI1    m198    CN       NaN  72.6  198\n",
       "16331  1016   ADNI3    ADNI1    m198    CN       NaN  78.3  198\n",
       "16332  1195   ADNI3    ADNI1    m192    CN       NaN  76.9  192\n",
       "16366   605   ADNI3    ADNI1    m204    CN  Dementia  75.6  204\n",
       "16402   934   ADNI3    ADNI1    m198    CN       NaN  70.0  198\n",
       "\n",
       "[7267 rows x 8 columns]"
      ]
     },
     "execution_count": 22,
     "metadata": {},
     "output_type": "execute_result"
    }
   ],
   "source": [
    "adni_use[adni_use['RID'].isin(baseline_adni1['RID'].unique())]"
   ]
  },
  {
   "cell_type": "code",
   "execution_count": 23,
   "metadata": {},
   "outputs": [],
   "source": [
    "adni1_followup = adni_use[adni_use[\"COLPROT\"] == \"ADNI1\"].groupby(\"RID\")[\n",
    "    \"VISCODE\"].nunique()\n",
    "adni2_followup = adni_use[adni_use[\"COLPROT\"] == \"ADNI2\"].groupby(\"RID\")[\n",
    "    \"VISCODE\"].nunique()\n",
    "adnigo_followup = adni_use[adni_use[\"COLPROT\"] == \"ADNIGO\"].groupby(\"RID\")[\n",
    "    \"VISCODE\"].nunique()\n",
    "adni3_followup = adni_use[adni_use[\"COLPROT\"] == \"ADNI3\"].groupby(\"RID\")[\n",
    "    \"VISCODE\"].nunique()"
   ]
  },
  {
   "cell_type": "code",
   "execution_count": 25,
   "metadata": {},
   "outputs": [
    {
     "data": {
      "text/plain": [
       "6.1208791208791204"
      ]
     },
     "execution_count": 25,
     "metadata": {},
     "output_type": "execute_result"
    }
   ],
   "source": [
    "adni1_followup.mean()"
   ]
  },
  {
   "cell_type": "code",
   "execution_count": 26,
   "metadata": {},
   "outputs": [
    {
     "data": {
      "text/plain": [
       "5.855817875210793"
      ]
     },
     "execution_count": 26,
     "metadata": {},
     "output_type": "execute_result"
    }
   ],
   "source": [
    "adni2_followup.mean()"
   ]
  },
  {
   "cell_type": "code",
   "execution_count": null,
   "metadata": {},
   "outputs": [
    {
     "name": "stdout",
     "output_type": "stream",
     "text": [
      "ADNI1 Follow-up Visit Distribution:\n",
      "7     173\n",
      "8     169\n",
      "5     161\n",
      "6      74\n",
      "4      48\n",
      "10     44\n",
      "2      43\n",
      "9      38\n",
      "3      36\n",
      "1      33\n",
      "Name: VISCODE, dtype: int64\n",
      "\n",
      "ADNI2 Follow-up Visit Distribution:\n",
      "7     243\n",
      "8     213\n",
      "6     172\n",
      "5     143\n",
      "4     143\n",
      "3      81\n",
      "2      58\n",
      "9      49\n",
      "1      47\n",
      "10     33\n",
      "11      4\n",
      "Name: VISCODE, dtype: int64\n"
     ]
    }
   ],
   "source": [
    "adni1_followup_distribution = adni1_followup.value_counts().sort_values(ascending=False)\n",
    "print(\"ADNI1 Follow-up Visit Distribution:\")\n",
    "print(adni1_followup_distribution)\n",
    "\n",
    "adni2_followup_distribution = adni2_followup.value_counts().sort_values(ascending=False)\n",
    "print(\"\\nADNI2 Follow-up Visit Distribution:\")\n",
    "print(adni2_followup_distribution)"
   ]
  },
  {
   "cell_type": "code",
   "execution_count": 27,
   "metadata": {},
   "outputs": [],
   "source": [
    "adni1_max_followup = adni1_followup.max()\n",
    "adni2_max_followup = adni2_followup.max()\n",
    "adni3_max_follow = adni3_followup.max()\n",
    "adnigo_max_follow = adnigo_followup.max()\n",
    "\n",
    "adni1_max_count = (adni1_followup == adni1_max_followup).sum()\n",
    "adni2_max_count = (adni2_followup == adni2_max_followup).sum()\n",
    "adni3_max_count = (adni3_followup == adni3_max_follow).sum()\n",
    "adnigo_max_count = (adnigo_followup == adnigo_max_follow).sum()"
   ]
  },
  {
   "cell_type": "code",
   "execution_count": 25,
   "metadata": {},
   "outputs": [
    {
     "name": "stdout",
     "output_type": "stream",
     "text": [
      "ADNI1: Max Follow-up Visits: 10\n",
      "ADNI2 Max Follow-up Visits: 11\n"
     ]
    }
   ],
   "source": [
    "print(\"ADNI1: Max Follow-up Visits:\", adni1_max_followup)\n",
    "print(\"ADNI2 Max Follow-up Visits:\", adni2_max_followup)"
   ]
  },
  {
   "cell_type": "code",
   "execution_count": null,
   "metadata": {},
   "outputs": [
    {
     "data": {
      "image/png": "[encoded data removed]",
      "text/plain": [
       "<Figure size 1000x600 with 1 Axes>"
      ]
     },
     "metadata": {},
     "output_type": "display_data"
    }
   ],
   "source": [
    "plt.figure(figsize=(10, 6))\n",
    "counts = [adni1_max_followup, adni2_max_followup, adnigo_max_follow, adni3_max_follow]\n",
    "labels = ['ADNI1', 'ADNI2', 'ADNIGO', 'ADNI3']\n",
    "colors = ['blue', 'green', 'red', 'orange']\n",
    "\n",
    "bars = plt.bar(labels, counts, color=colors)\n",
    "\n",
    "for bar in bars:\n",
    "        height = bar.get_height()\n",
    "        plt.annotate(f'{height}',\n",
    "                                 xy=(bar.get_x() + bar.get_width() / 2, height),\n",
    "                                 xytext=(0, 3),  \n",
    "                                 textcoords=\"offset points\",\n",
    "                                 ha='center', va='bottom')\n",
    "\n",
    "plt.title(\"Max Longitudinal Follow-ups across ADNI1 to ADNI3\")\n",
    "plt.xlabel(\"ADNI Phases\")\n",
    "plt.ylabel(\"Number of Follow-ups\")\n",
    "plt.show()"
   ]
  },
  {
   "cell_type": "code",
   "execution_count": 27,
   "metadata": {},
   "outputs": [
    {
     "data": {
      "text/html": [
       "<div>\n",
       "<style scoped>\n",
       "    .dataframe tbody tr th:only-of-type {\n",
       "        vertical-align: middle;\n",
       "    }\n",
       "\n",
       "    .dataframe tbody tr th {\n",
       "        vertical-align: top;\n",
       "    }\n",
       "\n",
       "    .dataframe thead th {\n",
       "        text-align: right;\n",
       "    }\n",
       "</style>\n",
       "<table border=\"1\" class=\"dataframe\">\n",
       "  <thead>\n",
       "    <tr style=\"text-align: right;\">\n",
       "      <th></th>\n",
       "      <th>RID</th>\n",
       "      <th>COLPROT</th>\n",
       "      <th>ORIGPROT</th>\n",
       "      <th>VISCODE</th>\n",
       "      <th>DX_bl</th>\n",
       "      <th>DX</th>\n",
       "      <th>AGE</th>\n",
       "      <th>M</th>\n",
       "    </tr>\n",
       "  </thead>\n",
       "  <tbody>\n",
       "    <tr>\n",
       "      <th>0</th>\n",
       "      <td>2</td>\n",
       "      <td>ADNI1</td>\n",
       "      <td>ADNI1</td>\n",
       "      <td>bl</td>\n",
       "      <td>CN</td>\n",
       "      <td>CN</td>\n",
       "      <td>74.3</td>\n",
       "      <td>0</td>\n",
       "    </tr>\n",
       "    <tr>\n",
       "      <th>1</th>\n",
       "      <td>3</td>\n",
       "      <td>ADNI1</td>\n",
       "      <td>ADNI1</td>\n",
       "      <td>bl</td>\n",
       "      <td>AD</td>\n",
       "      <td>Dementia</td>\n",
       "      <td>81.3</td>\n",
       "      <td>0</td>\n",
       "    </tr>\n",
       "    <tr>\n",
       "      <th>2</th>\n",
       "      <td>3</td>\n",
       "      <td>ADNI1</td>\n",
       "      <td>ADNI1</td>\n",
       "      <td>m06</td>\n",
       "      <td>AD</td>\n",
       "      <td>Dementia</td>\n",
       "      <td>81.3</td>\n",
       "      <td>6</td>\n",
       "    </tr>\n",
       "    <tr>\n",
       "      <th>3</th>\n",
       "      <td>3</td>\n",
       "      <td>ADNI1</td>\n",
       "      <td>ADNI1</td>\n",
       "      <td>m12</td>\n",
       "      <td>AD</td>\n",
       "      <td>Dementia</td>\n",
       "      <td>81.3</td>\n",
       "      <td>12</td>\n",
       "    </tr>\n",
       "    <tr>\n",
       "      <th>4</th>\n",
       "      <td>3</td>\n",
       "      <td>ADNI1</td>\n",
       "      <td>ADNI1</td>\n",
       "      <td>m24</td>\n",
       "      <td>AD</td>\n",
       "      <td>Dementia</td>\n",
       "      <td>81.3</td>\n",
       "      <td>24</td>\n",
       "    </tr>\n",
       "    <tr>\n",
       "      <th>...</th>\n",
       "      <td>...</td>\n",
       "      <td>...</td>\n",
       "      <td>...</td>\n",
       "      <td>...</td>\n",
       "      <td>...</td>\n",
       "      <td>...</td>\n",
       "      <td>...</td>\n",
       "      <td>...</td>\n",
       "    </tr>\n",
       "    <tr>\n",
       "      <th>16416</th>\n",
       "      <td>4349</td>\n",
       "      <td>ADNI3</td>\n",
       "      <td>ADNI2</td>\n",
       "      <td>m138</td>\n",
       "      <td>CN</td>\n",
       "      <td>NaN</td>\n",
       "      <td>71.4</td>\n",
       "      <td>138</td>\n",
       "    </tr>\n",
       "    <tr>\n",
       "      <th>16417</th>\n",
       "      <td>6801</td>\n",
       "      <td>ADNI3</td>\n",
       "      <td>ADNI3</td>\n",
       "      <td>m42</td>\n",
       "      <td>SMC</td>\n",
       "      <td>NaN</td>\n",
       "      <td>61.0</td>\n",
       "      <td>42</td>\n",
       "    </tr>\n",
       "    <tr>\n",
       "      <th>16418</th>\n",
       "      <td>5097</td>\n",
       "      <td>ADNI3</td>\n",
       "      <td>ADNI2</td>\n",
       "      <td>m126</td>\n",
       "      <td>SMC</td>\n",
       "      <td>NaN</td>\n",
       "      <td>67.5</td>\n",
       "      <td>126</td>\n",
       "    </tr>\n",
       "    <tr>\n",
       "      <th>16419</th>\n",
       "      <td>6515</td>\n",
       "      <td>ADNI3</td>\n",
       "      <td>ADNI3</td>\n",
       "      <td>m60</td>\n",
       "      <td>SMC</td>\n",
       "      <td>NaN</td>\n",
       "      <td>89.9</td>\n",
       "      <td>60</td>\n",
       "    </tr>\n",
       "    <tr>\n",
       "      <th>16420</th>\n",
       "      <td>5214</td>\n",
       "      <td>ADNI3</td>\n",
       "      <td>ADNI2</td>\n",
       "      <td>m120</td>\n",
       "      <td>SMC</td>\n",
       "      <td>NaN</td>\n",
       "      <td>69.6</td>\n",
       "      <td>120</td>\n",
       "    </tr>\n",
       "  </tbody>\n",
       "</table>\n",
       "<p>16421 rows × 8 columns</p>\n",
       "</div>"
      ],
      "text/plain": [
       "        RID COLPROT ORIGPROT VISCODE DX_bl        DX   AGE    M\n",
       "0         2   ADNI1    ADNI1      bl    CN        CN  74.3    0\n",
       "1         3   ADNI1    ADNI1      bl    AD  Dementia  81.3    0\n",
       "2         3   ADNI1    ADNI1     m06    AD  Dementia  81.3    6\n",
       "3         3   ADNI1    ADNI1     m12    AD  Dementia  81.3   12\n",
       "4         3   ADNI1    ADNI1     m24    AD  Dementia  81.3   24\n",
       "...     ...     ...      ...     ...   ...       ...   ...  ...\n",
       "16416  4349   ADNI3    ADNI2    m138    CN       NaN  71.4  138\n",
       "16417  6801   ADNI3    ADNI3     m42   SMC       NaN  61.0   42\n",
       "16418  5097   ADNI3    ADNI2    m126   SMC       NaN  67.5  126\n",
       "16419  6515   ADNI3    ADNI3     m60   SMC       NaN  89.9   60\n",
       "16420  5214   ADNI3    ADNI2    m120   SMC       NaN  69.6  120\n",
       "\n",
       "[16421 rows x 8 columns]"
      ]
     },
     "execution_count": 27,
     "metadata": {},
     "output_type": "execute_result"
    }
   ],
   "source": [
    "adni_use"
   ]
  },
  {
   "cell_type": "code",
   "execution_count": 28,
   "metadata": {},
   "outputs": [],
   "source": [
    "adni2_baseline = adni_use[(adni_use[\"COLPROT\"] == \"ADNI2\") & (\n",
    "    adni_use[\"VISCODE\"] == \"bl\")]\n",
    "adni2_rids = adni2_baseline[\"RID\"].unique()"
   ]
  },
  {
   "cell_type": "code",
   "execution_count": 29,
   "metadata": {},
   "outputs": [],
   "source": [
    "adni2_longitudinal = adni_use[adni_use[\"RID\"].isin(\n",
    "    adni2_rids)].sort_values([\"RID\", \"VISCODE\"])"
   ]
  },
  {
   "cell_type": "code",
   "execution_count": 30,
   "metadata": {},
   "outputs": [
    {
     "data": {
      "text/plain": [
       "CN      1681\n",
       "EMCI    1447\n",
       "LMCI    1324\n",
       "AD       730\n",
       "SMC      670\n",
       "Name: DX_bl, dtype: int64"
      ]
     },
     "execution_count": 30,
     "metadata": {},
     "output_type": "execute_result"
    }
   ],
   "source": [
    "adni2_longitudinal['DX_bl'].value_counts()"
   ]
  },
  {
   "cell_type": "code",
   "execution_count": 31,
   "metadata": {},
   "outputs": [
    {
     "data": {
      "text/plain": [
       "MCI         1686\n",
       "CN          1559\n",
       "Dementia     736\n",
       "Name: DX, dtype: int64"
      ]
     },
     "execution_count": 31,
     "metadata": {},
     "output_type": "execute_result"
    }
   ],
   "source": [
    "adni2_longitudinal['DX'].value_counts()"
   ]
  },
  {
   "cell_type": "code",
   "execution_count": 32,
   "metadata": {},
   "outputs": [
    {
     "name": "stdout",
     "output_type": "stream",
     "text": [
      "790\n"
     ]
    }
   ],
   "source": [
    "print(adni2_longitudinal['RID'].nunique())"
   ]
  },
  {
   "cell_type": "code",
   "execution_count": 33,
   "metadata": {},
   "outputs": [
    {
     "data": {
      "text/plain": [
       "DX_bl  DX      \n",
       "AD     Dementia    148\n",
       "       MCI           2\n",
       "CN     CN          186\n",
       "       Dementia      8\n",
       "       MCI          37\n",
       "EMCI   CN           24\n",
       "       Dementia     33\n",
       "       MCI         179\n",
       "LMCI   CN           13\n",
       "       Dementia     82\n",
       "       MCI         163\n",
       "SMC    CN          106\n",
       "       Dementia      4\n",
       "       MCI          22\n",
       "Name: RID, dtype: int64"
      ]
     },
     "execution_count": 33,
     "metadata": {},
     "output_type": "execute_result"
    }
   ],
   "source": [
    "adni2_longitudinal.groupby([\"DX_bl\",'DX'])['RID'].nunique()"
   ]
  },
  {
   "cell_type": "code",
   "execution_count": 34,
   "metadata": {},
   "outputs": [
    {
     "data": {
      "text/plain": [
       "DX_bl  DX      \n",
       "AD     Dementia    148\n",
       "       MCI           2\n",
       "CN     CN          186\n",
       "       Dementia      8\n",
       "       MCI          37\n",
       "EMCI   CN           24\n",
       "       Dementia     33\n",
       "       MCI         179\n",
       "LMCI   CN           13\n",
       "       Dementia     82\n",
       "       MCI         163\n",
       "SMC    CN          106\n",
       "       Dementia      4\n",
       "       MCI          22\n",
       "Name: RID, dtype: int64"
      ]
     },
     "execution_count": 34,
     "metadata": {},
     "output_type": "execute_result"
    }
   ],
   "source": [
    "adni2_longitudinal.groupby([\"DX_bl\", \"DX\"])['RID'].nunique()"
   ]
  },
  {
   "cell_type": "code",
   "execution_count": 35,
   "metadata": {},
   "outputs": [],
   "source": [
    "transition_counts = {}  \n",
    "conversion_details = []  \n",
    "\n",
    "for rid, group in adni2_longitudinal.groupby('RID'):\n",
    "    group = group.sort_values('M') \n",
    "    baseline_dx = group['DX_bl'].iloc[0]  \n",
    "    baseline_viscode = group['VISCODE'].iloc[0]  \n",
    "\n",
    "    previous_dx = baseline_dx  \n",
    "\n",
    "    for index, row in group.iterrows():\n",
    "        current_dx = row['DX']\n",
    "\n",
    "        if pd.notna(previous_dx) and pd.notna(current_dx) and previous_dx != current_dx:\n",
    "            transition_key = f\"{previous_dx} → {current_dx}\"\n",
    "\n",
    "            \n",
    "            if transition_key in transition_counts:\n",
    "                transition_counts[transition_key] += 1\n",
    "            else:\n",
    "                transition_counts[transition_key] = 1\n",
    "\n",
    "            conversion_details.append(\n",
    "                (rid, baseline_viscode, baseline_dx, row['VISCODE'], current_dx, transition_key))\n",
    "\n",
    "        previous_dx = current_dx  \n",
    "\n"
   ]
  },
  {
   "cell_type": "code",
   "execution_count": 36,
   "metadata": {},
   "outputs": [],
   "source": [
    "transition = pd.DataFrame(conversion_details, columns=[\n",
    "    'RID', 'Baseline_VISCODE', 'Baseline_DX', 'Transition_VISCODE', 'Transition_DX', 'Transition'])"
   ]
  },
  {
   "cell_type": "code",
   "execution_count": 37,
   "metadata": {},
   "outputs": [
    {
     "data": {
      "text/plain": [
       "DX_bl  DX      \n",
       "CN     CN          161\n",
       "       Dementia      1\n",
       "       MCI          13\n",
       "Name: RID, dtype: int64"
      ]
     },
     "execution_count": 37,
     "metadata": {},
     "output_type": "execute_result"
    }
   ],
   "source": [
    "adni2_longitudinal[ ~adni2_longitudinal['RID'].isin(transition['RID'].unique())].groupby(['DX_bl','DX'])['RID'].nunique()"
   ]
  },
  {
   "cell_type": "code",
   "execution_count": 38,
   "metadata": {},
   "outputs": [
    {
     "data": {
      "text/html": [
       "<div>\n",
       "<style scoped>\n",
       "    .dataframe tbody tr th:only-of-type {\n",
       "        vertical-align: middle;\n",
       "    }\n",
       "\n",
       "    .dataframe tbody tr th {\n",
       "        vertical-align: top;\n",
       "    }\n",
       "\n",
       "    .dataframe thead th {\n",
       "        text-align: right;\n",
       "    }\n",
       "</style>\n",
       "<table border=\"1\" class=\"dataframe\">\n",
       "  <thead>\n",
       "    <tr style=\"text-align: right;\">\n",
       "      <th></th>\n",
       "      <th>RID</th>\n",
       "      <th>COLPROT</th>\n",
       "      <th>ORIGPROT</th>\n",
       "      <th>VISCODE</th>\n",
       "      <th>DX_bl</th>\n",
       "      <th>DX</th>\n",
       "      <th>AGE</th>\n",
       "      <th>M</th>\n",
       "    </tr>\n",
       "  </thead>\n",
       "  <tbody>\n",
       "    <tr>\n",
       "      <th>12031</th>\n",
       "      <td>4041</td>\n",
       "      <td>ADNI2</td>\n",
       "      <td>ADNI2</td>\n",
       "      <td>m06</td>\n",
       "      <td>CN</td>\n",
       "      <td>MCI</td>\n",
       "      <td>77.9</td>\n",
       "      <td>6</td>\n",
       "    </tr>\n",
       "    <tr>\n",
       "      <th>12032</th>\n",
       "      <td>4041</td>\n",
       "      <td>ADNI2</td>\n",
       "      <td>ADNI2</td>\n",
       "      <td>m12</td>\n",
       "      <td>CN</td>\n",
       "      <td>MCI</td>\n",
       "      <td>77.9</td>\n",
       "      <td>12</td>\n",
       "    </tr>\n",
       "    <tr>\n",
       "      <th>12034</th>\n",
       "      <td>4041</td>\n",
       "      <td>ADNI2</td>\n",
       "      <td>ADNI2</td>\n",
       "      <td>m24</td>\n",
       "      <td>CN</td>\n",
       "      <td>Dementia</td>\n",
       "      <td>77.9</td>\n",
       "      <td>24</td>\n",
       "    </tr>\n",
       "    <tr>\n",
       "      <th>12036</th>\n",
       "      <td>4041</td>\n",
       "      <td>ADNI2</td>\n",
       "      <td>ADNI2</td>\n",
       "      <td>m36</td>\n",
       "      <td>CN</td>\n",
       "      <td>Dementia</td>\n",
       "      <td>77.9</td>\n",
       "      <td>36</td>\n",
       "    </tr>\n",
       "    <tr>\n",
       "      <th>12037</th>\n",
       "      <td>4041</td>\n",
       "      <td>ADNI2</td>\n",
       "      <td>ADNI2</td>\n",
       "      <td>m48</td>\n",
       "      <td>CN</td>\n",
       "      <td>Dementia</td>\n",
       "      <td>77.9</td>\n",
       "      <td>48</td>\n",
       "    </tr>\n",
       "    <tr>\n",
       "      <th>13427</th>\n",
       "      <td>4041</td>\n",
       "      <td>ADNI3</td>\n",
       "      <td>ADNI2</td>\n",
       "      <td>m78</td>\n",
       "      <td>CN</td>\n",
       "      <td>Dementia</td>\n",
       "      <td>77.9</td>\n",
       "      <td>78</td>\n",
       "    </tr>\n",
       "    <tr>\n",
       "      <th>9038</th>\n",
       "      <td>4071</td>\n",
       "      <td>ADNI2</td>\n",
       "      <td>ADNI2</td>\n",
       "      <td>m24</td>\n",
       "      <td>CN</td>\n",
       "      <td>MCI</td>\n",
       "      <td>84.5</td>\n",
       "      <td>24</td>\n",
       "    </tr>\n",
       "    <tr>\n",
       "      <th>9036</th>\n",
       "      <td>4071</td>\n",
       "      <td>ADNI2</td>\n",
       "      <td>ADNI2</td>\n",
       "      <td>m36</td>\n",
       "      <td>CN</td>\n",
       "      <td>MCI</td>\n",
       "      <td>84.5</td>\n",
       "      <td>36</td>\n",
       "    </tr>\n",
       "    <tr>\n",
       "      <th>9035</th>\n",
       "      <td>4071</td>\n",
       "      <td>ADNI2</td>\n",
       "      <td>ADNI2</td>\n",
       "      <td>m48</td>\n",
       "      <td>CN</td>\n",
       "      <td>MCI</td>\n",
       "      <td>84.5</td>\n",
       "      <td>48</td>\n",
       "    </tr>\n",
       "    <tr>\n",
       "      <th>9034</th>\n",
       "      <td>4071</td>\n",
       "      <td>ADNI2</td>\n",
       "      <td>ADNI2</td>\n",
       "      <td>m60</td>\n",
       "      <td>CN</td>\n",
       "      <td>MCI</td>\n",
       "      <td>84.5</td>\n",
       "      <td>60</td>\n",
       "    </tr>\n",
       "    <tr>\n",
       "      <th>13748</th>\n",
       "      <td>4071</td>\n",
       "      <td>ADNI3</td>\n",
       "      <td>ADNI2</td>\n",
       "      <td>m66</td>\n",
       "      <td>CN</td>\n",
       "      <td>MCI</td>\n",
       "      <td>84.5</td>\n",
       "      <td>66</td>\n",
       "    </tr>\n",
       "    <tr>\n",
       "      <th>15716</th>\n",
       "      <td>4076</td>\n",
       "      <td>ADNI3</td>\n",
       "      <td>ADNI2</td>\n",
       "      <td>m126</td>\n",
       "      <td>CN</td>\n",
       "      <td>MCI</td>\n",
       "      <td>72.6</td>\n",
       "      <td>126</td>\n",
       "    </tr>\n",
       "    <tr>\n",
       "      <th>8870</th>\n",
       "      <td>4121</td>\n",
       "      <td>ADNI2</td>\n",
       "      <td>ADNI2</td>\n",
       "      <td>m48</td>\n",
       "      <td>CN</td>\n",
       "      <td>MCI</td>\n",
       "      <td>89.0</td>\n",
       "      <td>48</td>\n",
       "    </tr>\n",
       "    <tr>\n",
       "      <th>13148</th>\n",
       "      <td>4254</td>\n",
       "      <td>ADNI3</td>\n",
       "      <td>ADNI2</td>\n",
       "      <td>m108</td>\n",
       "      <td>CN</td>\n",
       "      <td>MCI</td>\n",
       "      <td>85.9</td>\n",
       "      <td>108</td>\n",
       "    </tr>\n",
       "    <tr>\n",
       "      <th>13457</th>\n",
       "      <td>4254</td>\n",
       "      <td>ADNI3</td>\n",
       "      <td>ADNI2</td>\n",
       "      <td>m90</td>\n",
       "      <td>CN</td>\n",
       "      <td>MCI</td>\n",
       "      <td>85.9</td>\n",
       "      <td>90</td>\n",
       "    </tr>\n",
       "    <tr>\n",
       "      <th>12231</th>\n",
       "      <td>4277</td>\n",
       "      <td>ADNI2</td>\n",
       "      <td>ADNI2</td>\n",
       "      <td>m24</td>\n",
       "      <td>CN</td>\n",
       "      <td>MCI</td>\n",
       "      <td>71.4</td>\n",
       "      <td>24</td>\n",
       "    </tr>\n",
       "    <tr>\n",
       "      <th>8108</th>\n",
       "      <td>4288</td>\n",
       "      <td>ADNI2</td>\n",
       "      <td>ADNI2</td>\n",
       "      <td>m24</td>\n",
       "      <td>CN</td>\n",
       "      <td>MCI</td>\n",
       "      <td>72.5</td>\n",
       "      <td>24</td>\n",
       "    </tr>\n",
       "    <tr>\n",
       "      <th>5182</th>\n",
       "      <td>4474</td>\n",
       "      <td>ADNI2</td>\n",
       "      <td>ADNI2</td>\n",
       "      <td>m06</td>\n",
       "      <td>CN</td>\n",
       "      <td>MCI</td>\n",
       "      <td>85.6</td>\n",
       "      <td>6</td>\n",
       "    </tr>\n",
       "    <tr>\n",
       "      <th>4719</th>\n",
       "      <td>4566</td>\n",
       "      <td>ADNI2</td>\n",
       "      <td>ADNI2</td>\n",
       "      <td>m24</td>\n",
       "      <td>CN</td>\n",
       "      <td>MCI</td>\n",
       "      <td>83.4</td>\n",
       "      <td>24</td>\n",
       "    </tr>\n",
       "    <tr>\n",
       "      <th>4718</th>\n",
       "      <td>4566</td>\n",
       "      <td>ADNI2</td>\n",
       "      <td>ADNI2</td>\n",
       "      <td>m36</td>\n",
       "      <td>CN</td>\n",
       "      <td>MCI</td>\n",
       "      <td>83.4</td>\n",
       "      <td>36</td>\n",
       "    </tr>\n",
       "    <tr>\n",
       "      <th>4708</th>\n",
       "      <td>4577</td>\n",
       "      <td>ADNI2</td>\n",
       "      <td>ADNI2</td>\n",
       "      <td>m06</td>\n",
       "      <td>CN</td>\n",
       "      <td>MCI</td>\n",
       "      <td>84.7</td>\n",
       "      <td>6</td>\n",
       "    </tr>\n",
       "    <tr>\n",
       "      <th>4707</th>\n",
       "      <td>4577</td>\n",
       "      <td>ADNI2</td>\n",
       "      <td>ADNI2</td>\n",
       "      <td>m12</td>\n",
       "      <td>CN</td>\n",
       "      <td>MCI</td>\n",
       "      <td>84.7</td>\n",
       "      <td>12</td>\n",
       "    </tr>\n",
       "    <tr>\n",
       "      <th>4705</th>\n",
       "      <td>4577</td>\n",
       "      <td>ADNI2</td>\n",
       "      <td>ADNI2</td>\n",
       "      <td>m24</td>\n",
       "      <td>CN</td>\n",
       "      <td>MCI</td>\n",
       "      <td>84.7</td>\n",
       "      <td>24</td>\n",
       "    </tr>\n",
       "    <tr>\n",
       "      <th>4702</th>\n",
       "      <td>4579</td>\n",
       "      <td>ADNI2</td>\n",
       "      <td>ADNI2</td>\n",
       "      <td>m06</td>\n",
       "      <td>CN</td>\n",
       "      <td>MCI</td>\n",
       "      <td>84.9</td>\n",
       "      <td>6</td>\n",
       "    </tr>\n",
       "    <tr>\n",
       "      <th>4701</th>\n",
       "      <td>4579</td>\n",
       "      <td>ADNI2</td>\n",
       "      <td>ADNI2</td>\n",
       "      <td>m12</td>\n",
       "      <td>CN</td>\n",
       "      <td>MCI</td>\n",
       "      <td>84.9</td>\n",
       "      <td>12</td>\n",
       "    </tr>\n",
       "    <tr>\n",
       "      <th>4699</th>\n",
       "      <td>4579</td>\n",
       "      <td>ADNI2</td>\n",
       "      <td>ADNI2</td>\n",
       "      <td>m24</td>\n",
       "      <td>CN</td>\n",
       "      <td>MCI</td>\n",
       "      <td>84.9</td>\n",
       "      <td>24</td>\n",
       "    </tr>\n",
       "    <tr>\n",
       "      <th>4603</th>\n",
       "      <td>4607</td>\n",
       "      <td>ADNI2</td>\n",
       "      <td>ADNI2</td>\n",
       "      <td>m06</td>\n",
       "      <td>CN</td>\n",
       "      <td>MCI</td>\n",
       "      <td>56.2</td>\n",
       "      <td>6</td>\n",
       "    </tr>\n",
       "    <tr>\n",
       "      <th>4602</th>\n",
       "      <td>4607</td>\n",
       "      <td>ADNI2</td>\n",
       "      <td>ADNI2</td>\n",
       "      <td>m12</td>\n",
       "      <td>CN</td>\n",
       "      <td>MCI</td>\n",
       "      <td>56.2</td>\n",
       "      <td>12</td>\n",
       "    </tr>\n",
       "    <tr>\n",
       "      <th>12545</th>\n",
       "      <td>4638</td>\n",
       "      <td>ADNI2</td>\n",
       "      <td>ADNI2</td>\n",
       "      <td>m36</td>\n",
       "      <td>CN</td>\n",
       "      <td>MCI</td>\n",
       "      <td>74.0</td>\n",
       "      <td>36</td>\n",
       "    </tr>\n",
       "  </tbody>\n",
       "</table>\n",
       "</div>"
      ],
      "text/plain": [
       "        RID COLPROT ORIGPROT VISCODE DX_bl        DX   AGE    M\n",
       "12031  4041   ADNI2    ADNI2     m06    CN       MCI  77.9    6\n",
       "12032  4041   ADNI2    ADNI2     m12    CN       MCI  77.9   12\n",
       "12034  4041   ADNI2    ADNI2     m24    CN  Dementia  77.9   24\n",
       "12036  4041   ADNI2    ADNI2     m36    CN  Dementia  77.9   36\n",
       "12037  4041   ADNI2    ADNI2     m48    CN  Dementia  77.9   48\n",
       "13427  4041   ADNI3    ADNI2     m78    CN  Dementia  77.9   78\n",
       "9038   4071   ADNI2    ADNI2     m24    CN       MCI  84.5   24\n",
       "9036   4071   ADNI2    ADNI2     m36    CN       MCI  84.5   36\n",
       "9035   4071   ADNI2    ADNI2     m48    CN       MCI  84.5   48\n",
       "9034   4071   ADNI2    ADNI2     m60    CN       MCI  84.5   60\n",
       "13748  4071   ADNI3    ADNI2     m66    CN       MCI  84.5   66\n",
       "15716  4076   ADNI3    ADNI2    m126    CN       MCI  72.6  126\n",
       "8870   4121   ADNI2    ADNI2     m48    CN       MCI  89.0   48\n",
       "13148  4254   ADNI3    ADNI2    m108    CN       MCI  85.9  108\n",
       "13457  4254   ADNI3    ADNI2     m90    CN       MCI  85.9   90\n",
       "12231  4277   ADNI2    ADNI2     m24    CN       MCI  71.4   24\n",
       "8108   4288   ADNI2    ADNI2     m24    CN       MCI  72.5   24\n",
       "5182   4474   ADNI2    ADNI2     m06    CN       MCI  85.6    6\n",
       "4719   4566   ADNI2    ADNI2     m24    CN       MCI  83.4   24\n",
       "4718   4566   ADNI2    ADNI2     m36    CN       MCI  83.4   36\n",
       "4708   4577   ADNI2    ADNI2     m06    CN       MCI  84.7    6\n",
       "4707   4577   ADNI2    ADNI2     m12    CN       MCI  84.7   12\n",
       "4705   4577   ADNI2    ADNI2     m24    CN       MCI  84.7   24\n",
       "4702   4579   ADNI2    ADNI2     m06    CN       MCI  84.9    6\n",
       "4701   4579   ADNI2    ADNI2     m12    CN       MCI  84.9   12\n",
       "4699   4579   ADNI2    ADNI2     m24    CN       MCI  84.9   24\n",
       "4603   4607   ADNI2    ADNI2     m06    CN       MCI  56.2    6\n",
       "4602   4607   ADNI2    ADNI2     m12    CN       MCI  56.2   12\n",
       "12545  4638   ADNI2    ADNI2     m36    CN       MCI  74.0   36"
      ]
     },
     "execution_count": 38,
     "metadata": {},
     "output_type": "execute_result"
    }
   ],
   "source": [
    "adni2_longitudinal[(~adni2_longitudinal['RID'].isin(transition['RID'].unique())) & \n",
    "                   (adni2_longitudinal['DX'] != 'CN') & \n",
    "                   (adni2_longitudinal['DX'].notna())]"
   ]
  },
  {
   "cell_type": "code",
   "execution_count": 39,
   "metadata": {},
   "outputs": [
    {
     "data": {
      "text/html": [
       "<div>\n",
       "<style scoped>\n",
       "    .dataframe tbody tr th:only-of-type {\n",
       "        vertical-align: middle;\n",
       "    }\n",
       "\n",
       "    .dataframe tbody tr th {\n",
       "        vertical-align: top;\n",
       "    }\n",
       "\n",
       "    .dataframe thead th {\n",
       "        text-align: right;\n",
       "    }\n",
       "</style>\n",
       "<table border=\"1\" class=\"dataframe\">\n",
       "  <thead>\n",
       "    <tr style=\"text-align: right;\">\n",
       "      <th></th>\n",
       "      <th>RID</th>\n",
       "      <th>Baseline_VISCODE</th>\n",
       "      <th>Baseline_DX</th>\n",
       "      <th>Transition_VISCODE</th>\n",
       "      <th>Transition_DX</th>\n",
       "      <th>Transition</th>\n",
       "    </tr>\n",
       "  </thead>\n",
       "  <tbody>\n",
       "  </tbody>\n",
       "</table>\n",
       "</div>"
      ],
      "text/plain": [
       "Empty DataFrame\n",
       "Columns: [RID, Baseline_VISCODE, Baseline_DX, Transition_VISCODE, Transition_DX, Transition]\n",
       "Index: []"
      ]
     },
     "execution_count": 39,
     "metadata": {},
     "output_type": "execute_result"
    }
   ],
   "source": [
    "transition[transition['RID']==4577]"
   ]
  },
  {
   "cell_type": "code",
   "execution_count": 40,
   "metadata": {},
   "outputs": [
    {
     "data": {
      "text/html": [
       "<div>\n",
       "<style scoped>\n",
       "    .dataframe tbody tr th:only-of-type {\n",
       "        vertical-align: middle;\n",
       "    }\n",
       "\n",
       "    .dataframe tbody tr th {\n",
       "        vertical-align: top;\n",
       "    }\n",
       "\n",
       "    .dataframe thead th {\n",
       "        text-align: right;\n",
       "    }\n",
       "</style>\n",
       "<table border=\"1\" class=\"dataframe\">\n",
       "  <thead>\n",
       "    <tr style=\"text-align: right;\">\n",
       "      <th></th>\n",
       "      <th>RID</th>\n",
       "      <th>COLPROT</th>\n",
       "      <th>ORIGPROT</th>\n",
       "      <th>VISCODE</th>\n",
       "      <th>DX_bl</th>\n",
       "      <th>DX</th>\n",
       "      <th>AGE</th>\n",
       "      <th>M</th>\n",
       "    </tr>\n",
       "  </thead>\n",
       "  <tbody>\n",
       "    <tr>\n",
       "      <th>4710</th>\n",
       "      <td>4577</td>\n",
       "      <td>ADNI2</td>\n",
       "      <td>ADNI2</td>\n",
       "      <td>bl</td>\n",
       "      <td>CN</td>\n",
       "      <td>CN</td>\n",
       "      <td>84.7</td>\n",
       "      <td>0</td>\n",
       "    </tr>\n",
       "    <tr>\n",
       "      <th>4709</th>\n",
       "      <td>4577</td>\n",
       "      <td>ADNI2</td>\n",
       "      <td>ADNI2</td>\n",
       "      <td>m03</td>\n",
       "      <td>CN</td>\n",
       "      <td>NaN</td>\n",
       "      <td>84.7</td>\n",
       "      <td>3</td>\n",
       "    </tr>\n",
       "    <tr>\n",
       "      <th>4708</th>\n",
       "      <td>4577</td>\n",
       "      <td>ADNI2</td>\n",
       "      <td>ADNI2</td>\n",
       "      <td>m06</td>\n",
       "      <td>CN</td>\n",
       "      <td>MCI</td>\n",
       "      <td>84.7</td>\n",
       "      <td>6</td>\n",
       "    </tr>\n",
       "    <tr>\n",
       "      <th>4707</th>\n",
       "      <td>4577</td>\n",
       "      <td>ADNI2</td>\n",
       "      <td>ADNI2</td>\n",
       "      <td>m12</td>\n",
       "      <td>CN</td>\n",
       "      <td>MCI</td>\n",
       "      <td>84.7</td>\n",
       "      <td>12</td>\n",
       "    </tr>\n",
       "    <tr>\n",
       "      <th>4706</th>\n",
       "      <td>4577</td>\n",
       "      <td>ADNI2</td>\n",
       "      <td>ADNI2</td>\n",
       "      <td>m18</td>\n",
       "      <td>CN</td>\n",
       "      <td>NaN</td>\n",
       "      <td>84.7</td>\n",
       "      <td>18</td>\n",
       "    </tr>\n",
       "    <tr>\n",
       "      <th>4705</th>\n",
       "      <td>4577</td>\n",
       "      <td>ADNI2</td>\n",
       "      <td>ADNI2</td>\n",
       "      <td>m24</td>\n",
       "      <td>CN</td>\n",
       "      <td>MCI</td>\n",
       "      <td>84.7</td>\n",
       "      <td>24</td>\n",
       "    </tr>\n",
       "  </tbody>\n",
       "</table>\n",
       "</div>"
      ],
      "text/plain": [
       "       RID COLPROT ORIGPROT VISCODE DX_bl   DX   AGE   M\n",
       "4710  4577   ADNI2    ADNI2      bl    CN   CN  84.7   0\n",
       "4709  4577   ADNI2    ADNI2     m03    CN  NaN  84.7   3\n",
       "4708  4577   ADNI2    ADNI2     m06    CN  MCI  84.7   6\n",
       "4707  4577   ADNI2    ADNI2     m12    CN  MCI  84.7  12\n",
       "4706  4577   ADNI2    ADNI2     m18    CN  NaN  84.7  18\n",
       "4705  4577   ADNI2    ADNI2     m24    CN  MCI  84.7  24"
      ]
     },
     "execution_count": 40,
     "metadata": {},
     "output_type": "execute_result"
    }
   ],
   "source": [
    "adni2_longitudinal[adni2_longitudinal['RID']==4577]"
   ]
  },
  {
   "cell_type": "code",
   "execution_count": 41,
   "metadata": {},
   "outputs": [],
   "source": [
    "baseline_counts = adni2_longitudinal.groupby('DX_bl')['RID'].nunique()\n",
    "transition_rids = transition['RID'].unique()\n",
    "transition_counts = adni2_longitudinal[adni2_longitudinal['RID'].isin(\n",
    "    transition_rids)].groupby('DX_bl')['RID'].nunique()\n",
    "stable_counts = baseline_counts - transition_counts\n",
    "transition_summary = pd.DataFrame({\n",
    "    'Total Participants': baseline_counts,\n",
    "    'Transitioned': transition_counts.fillna(0).astype(int),\n",
    "    'Stable': stable_counts.fillna(0).astype(int)\n",
    "})"
   ]
  },
  {
   "cell_type": "code",
   "execution_count": 42,
   "metadata": {},
   "outputs": [
    {
     "data": {
      "text/html": [
       "<div>\n",
       "<style scoped>\n",
       "    .dataframe tbody tr th:only-of-type {\n",
       "        vertical-align: middle;\n",
       "    }\n",
       "\n",
       "    .dataframe tbody tr th {\n",
       "        vertical-align: top;\n",
       "    }\n",
       "\n",
       "    .dataframe thead th {\n",
       "        text-align: right;\n",
       "    }\n",
       "</style>\n",
       "<table border=\"1\" class=\"dataframe\">\n",
       "  <thead>\n",
       "    <tr style=\"text-align: right;\">\n",
       "      <th></th>\n",
       "      <th>Total Participants</th>\n",
       "      <th>Transitioned</th>\n",
       "      <th>Stable</th>\n",
       "    </tr>\n",
       "    <tr>\n",
       "      <th>DX_bl</th>\n",
       "      <th></th>\n",
       "      <th></th>\n",
       "      <th></th>\n",
       "    </tr>\n",
       "  </thead>\n",
       "  <tbody>\n",
       "    <tr>\n",
       "      <th>AD</th>\n",
       "      <td>151</td>\n",
       "      <td>148</td>\n",
       "      <td>3</td>\n",
       "    </tr>\n",
       "    <tr>\n",
       "      <th>CN</th>\n",
       "      <td>188</td>\n",
       "      <td>25</td>\n",
       "      <td>163</td>\n",
       "    </tr>\n",
       "    <tr>\n",
       "      <th>EMCI</th>\n",
       "      <td>181</td>\n",
       "      <td>179</td>\n",
       "      <td>2</td>\n",
       "    </tr>\n",
       "    <tr>\n",
       "      <th>LMCI</th>\n",
       "      <td>164</td>\n",
       "      <td>163</td>\n",
       "      <td>1</td>\n",
       "    </tr>\n",
       "    <tr>\n",
       "      <th>SMC</th>\n",
       "      <td>106</td>\n",
       "      <td>106</td>\n",
       "      <td>0</td>\n",
       "    </tr>\n",
       "  </tbody>\n",
       "</table>\n",
       "</div>"
      ],
      "text/plain": [
       "       Total Participants  Transitioned  Stable\n",
       "DX_bl                                          \n",
       "AD                    151           148       3\n",
       "CN                    188            25     163\n",
       "EMCI                  181           179       2\n",
       "LMCI                  164           163       1\n",
       "SMC                   106           106       0"
      ]
     },
     "execution_count": 42,
     "metadata": {},
     "output_type": "execute_result"
    }
   ],
   "source": [
    "transition_summary"
   ]
  },
  {
   "cell_type": "code",
   "execution_count": 43,
   "metadata": {},
   "outputs": [
    {
     "data": {
      "text/plain": [
       "DX\n",
       "CN          106\n",
       "Dementia      4\n",
       "MCI          22\n",
       "Name: RID, dtype: int64"
      ]
     },
     "execution_count": 43,
     "metadata": {},
     "output_type": "execute_result"
    }
   ],
   "source": [
    "adni2_longitudinal[adni2_longitudinal['DX_bl'] =='SMC'].groupby('DX')['RID'].nunique()"
   ]
  },
  {
   "cell_type": "code",
   "execution_count": 44,
   "metadata": {},
   "outputs": [
    {
     "data": {
      "image/png": "[encoded data removed]",
      "text/plain": [
       "<Figure size 800x500 with 1 Axes>"
      ]
     },
     "metadata": {},
     "output_type": "display_data"
    }
   ],
   "source": [
    "fig, ax = plt.subplots(figsize=(8, 5))\n",
    "\n",
    "bar_width = 0.4\n",
    "x_labels = transition_summary.index\n",
    "x = np.arange(len(x_labels))\n",
    "\n",
    "ax.bar(x - bar_width/2, transition_summary['Transitioned'],\n",
    "       width=bar_width, color='salmon', label='Transitioned')\n",
    "ax.bar(x + bar_width/2, transition_summary['Stable'],\n",
    "       width=bar_width, color='lightblue', label='Stable')\n",
    "\n",
    "ax.set_xlabel(\"Baseline Diagnosis (DX_bl)\")\n",
    "ax.set_ylabel(\"Number of Participants\")\n",
    "ax.set_title(\"Participants Who Transitioned vs. Remained Stable\")\n",
    "ax.set_xticks(x)\n",
    "ax.set_xticklabels(x_labels, rotation=45)\n",
    "ax.legend()\n",
    "\n",
    "plt.show()"
   ]
  },
  {
   "cell_type": "code",
   "execution_count": null,
   "metadata": {},
   "outputs": [
    {
     "data": {
      "image/png": "[encoded data removed]",
      "text/plain": [
       "<Figure size 800x500 with 1 Axes>"
      ]
     },
     "metadata": {},
     "output_type": "display_data"
    }
   ],
   "source": [
    "fig, ax = plt.subplots(figsize=(8, 5))\n",
    "labels = transition_summary.index\n",
    "sizes = transition_summary['Transitioned']\n",
    "\n",
    "bars = ax.bar(labels, sizes, color=plt.cm.Paired.colors)\n",
    "\n",
    "for bar in bars:\n",
    "       height = bar.get_height()\n",
    "       ax.annotate(f'{height}',\n",
    "                            xy=(bar.get_x() + bar.get_width() / 2, height),\n",
    "                            xytext=(0, 3),\n",
    "                            textcoords=\"offset points\",\n",
    "                            ha='center', va='bottom')\n",
    "\n",
    "ax.set_title(\"Participants Who Transitioned\")\n",
    "ax.set_xlabel(\"Baseline Diagnosis (DX_bl)\")\n",
    "ax.set_ylabel(\"Number of Participants\")\n",
    "\n",
    "plt.show()"
   ]
  },
  {
   "cell_type": "code",
   "execution_count": null,
   "metadata": {},
   "outputs": [
    {
     "data": {
      "text/html": [
       "<div>\n",
       "<style scoped>\n",
       "    .dataframe tbody tr th:only-of-type {\n",
       "        vertical-align: middle;\n",
       "    }\n",
       "\n",
       "    .dataframe tbody tr th {\n",
       "        vertical-align: top;\n",
       "    }\n",
       "\n",
       "    .dataframe thead th {\n",
       "        text-align: right;\n",
       "    }\n",
       "</style>\n",
       "<table border=\"1\" class=\"dataframe\">\n",
       "  <thead>\n",
       "    <tr style=\"text-align: right;\">\n",
       "      <th></th>\n",
       "      <th>RID</th>\n",
       "      <th>COLPROT</th>\n",
       "      <th>ORIGPROT</th>\n",
       "      <th>VISCODE</th>\n",
       "      <th>DX_bl</th>\n",
       "      <th>DX</th>\n",
       "      <th>AGE</th>\n",
       "      <th>M</th>\n",
       "    </tr>\n",
       "  </thead>\n",
       "  <tbody>\n",
       "    <tr>\n",
       "      <th>9258</th>\n",
       "      <td>4001</td>\n",
       "      <td>ADNI2</td>\n",
       "      <td>ADNI2</td>\n",
       "      <td>bl</td>\n",
       "      <td>AD</td>\n",
       "      <td>Dementia</td>\n",
       "      <td>88.5</td>\n",
       "      <td>0</td>\n",
       "    </tr>\n",
       "    <tr>\n",
       "      <th>9257</th>\n",
       "      <td>4001</td>\n",
       "      <td>ADNI2</td>\n",
       "      <td>ADNI2</td>\n",
       "      <td>m03</td>\n",
       "      <td>AD</td>\n",
       "      <td>NaN</td>\n",
       "      <td>88.5</td>\n",
       "      <td>3</td>\n",
       "    </tr>\n",
       "    <tr>\n",
       "      <th>9256</th>\n",
       "      <td>4001</td>\n",
       "      <td>ADNI2</td>\n",
       "      <td>ADNI2</td>\n",
       "      <td>m06</td>\n",
       "      <td>AD</td>\n",
       "      <td>Dementia</td>\n",
       "      <td>88.5</td>\n",
       "      <td>6</td>\n",
       "    </tr>\n",
       "    <tr>\n",
       "      <th>9255</th>\n",
       "      <td>4001</td>\n",
       "      <td>ADNI2</td>\n",
       "      <td>ADNI2</td>\n",
       "      <td>m12</td>\n",
       "      <td>AD</td>\n",
       "      <td>Dementia</td>\n",
       "      <td>88.5</td>\n",
       "      <td>12</td>\n",
       "    </tr>\n",
       "    <tr>\n",
       "      <th>9254</th>\n",
       "      <td>4001</td>\n",
       "      <td>ADNI2</td>\n",
       "      <td>ADNI2</td>\n",
       "      <td>m18</td>\n",
       "      <td>AD</td>\n",
       "      <td>NaN</td>\n",
       "      <td>88.5</td>\n",
       "      <td>18</td>\n",
       "    </tr>\n",
       "    <tr>\n",
       "      <th>...</th>\n",
       "      <td>...</td>\n",
       "      <td>...</td>\n",
       "      <td>...</td>\n",
       "      <td>...</td>\n",
       "      <td>...</td>\n",
       "      <td>...</td>\n",
       "      <td>...</td>\n",
       "      <td>...</td>\n",
       "    </tr>\n",
       "    <tr>\n",
       "      <th>11232</th>\n",
       "      <td>5296</td>\n",
       "      <td>ADNI2</td>\n",
       "      <td>ADNI2</td>\n",
       "      <td>m24</td>\n",
       "      <td>SMC</td>\n",
       "      <td>CN</td>\n",
       "      <td>69.3</td>\n",
       "      <td>24</td>\n",
       "    </tr>\n",
       "    <tr>\n",
       "      <th>14392</th>\n",
       "      <td>5296</td>\n",
       "      <td>ADNI3</td>\n",
       "      <td>ADNI2</td>\n",
       "      <td>m60</td>\n",
       "      <td>SMC</td>\n",
       "      <td>CN</td>\n",
       "      <td>69.3</td>\n",
       "      <td>60</td>\n",
       "    </tr>\n",
       "    <tr>\n",
       "      <th>13066</th>\n",
       "      <td>5296</td>\n",
       "      <td>ADNI3</td>\n",
       "      <td>ADNI2</td>\n",
       "      <td>m72</td>\n",
       "      <td>SMC</td>\n",
       "      <td>NaN</td>\n",
       "      <td>69.3</td>\n",
       "      <td>72</td>\n",
       "    </tr>\n",
       "    <tr>\n",
       "      <th>13240</th>\n",
       "      <td>5296</td>\n",
       "      <td>ADNI3</td>\n",
       "      <td>ADNI2</td>\n",
       "      <td>m84</td>\n",
       "      <td>SMC</td>\n",
       "      <td>CN</td>\n",
       "      <td>69.3</td>\n",
       "      <td>84</td>\n",
       "    </tr>\n",
       "    <tr>\n",
       "      <th>16261</th>\n",
       "      <td>5296</td>\n",
       "      <td>ADNI3</td>\n",
       "      <td>ADNI2</td>\n",
       "      <td>m96</td>\n",
       "      <td>SMC</td>\n",
       "      <td>NaN</td>\n",
       "      <td>69.3</td>\n",
       "      <td>96</td>\n",
       "    </tr>\n",
       "  </tbody>\n",
       "</table>\n",
       "<p>5852 rows × 8 columns</p>\n",
       "</div>"
      ],
      "text/plain": [
       "        RID COLPROT ORIGPROT VISCODE DX_bl        DX   AGE   M\n",
       "9258   4001   ADNI2    ADNI2      bl    AD  Dementia  88.5   0\n",
       "9257   4001   ADNI2    ADNI2     m03    AD       NaN  88.5   3\n",
       "9256   4001   ADNI2    ADNI2     m06    AD  Dementia  88.5   6\n",
       "9255   4001   ADNI2    ADNI2     m12    AD  Dementia  88.5  12\n",
       "9254   4001   ADNI2    ADNI2     m18    AD       NaN  88.5  18\n",
       "...     ...     ...      ...     ...   ...       ...   ...  ..\n",
       "11232  5296   ADNI2    ADNI2     m24   SMC        CN  69.3  24\n",
       "14392  5296   ADNI3    ADNI2     m60   SMC        CN  69.3  60\n",
       "13066  5296   ADNI3    ADNI2     m72   SMC       NaN  69.3  72\n",
       "13240  5296   ADNI3    ADNI2     m84   SMC        CN  69.3  84\n",
       "16261  5296   ADNI3    ADNI2     m96   SMC       NaN  69.3  96\n",
       "\n",
       "[5852 rows x 8 columns]"
      ]
     },
     "execution_count": 166,
     "metadata": {},
     "output_type": "execute_result"
    }
   ],
   "source": []
  },
  {
   "cell_type": "code",
   "execution_count": 167,
   "metadata": {},
   "outputs": [],
   "source": [
    "longitudinal_duration = adni2_longitudinal.groupby(\n",
    "    'RID')['M'].agg(['min', 'max'])\n",
    "longitudinal_duration['Followup_Duration'] = longitudinal_duration['max'] - \\\n",
    "    longitudinal_duration['min']"
   ]
  },
  {
   "cell_type": "code",
   "execution_count": 168,
   "metadata": {},
   "outputs": [],
   "source": [
    "duration_counts = longitudinal_duration['Followup_Duration'].value_counts(\n",
    ").sort_index()"
   ]
  },
  {
   "cell_type": "code",
   "execution_count": 175,
   "metadata": {},
   "outputs": [
    {
     "data": {
      "image/png": "[encoded data removed]",
      "text/plain": [
       "<Figure size 1000x500 with 1 Axes>"
      ]
     },
     "metadata": {},
     "output_type": "display_data"
    }
   ],
   "source": [
    "plt.figure(figsize=(10, 5))\n",
    "plt.bar(duration_counts.index, duration_counts.values,\n",
    "        color='skyblue', edgecolor='black')\n",
    "plt.xlabel(\"Follow-up Duration (Months)\")\n",
    "plt.ylabel(\"Number of Participants\")\n",
    "plt.title(\"Distribution of Follow-up Durations in ADNI2 Longitudinal Study\")\n",
    "plt.xticks(rotation=45)\n",
    "plt.xscale('linear')\n",
    "plt.xticks(np.arange(0, max(duration_counts.index) + 1, 10))\n",
    "plt.grid(axis='y', linestyle='--', alpha=0.7)\n",
    "\n",
    "plt.show()"
   ]
  },
  {
   "cell_type": "code",
   "execution_count": 177,
   "metadata": {},
   "outputs": [],
   "source": [
    "npiq = pd.read_csv(\"All_Subjects_NPIQ_07Feb2025.csv\")"
   ]
  },
  {
   "cell_type": "code",
   "execution_count": 182,
   "metadata": {},
   "outputs": [],
   "source": [
    "npiq_use = npiq[['PHASE','RID','VISCODE2','NPIK','NPIKSEV']]"
   ]
  },
  {
   "cell_type": "code",
   "execution_count": 183,
   "metadata": {},
   "outputs": [],
   "source": [
    "adni2_rids = set(adni2_longitudinal['RID'].unique())\n",
    "npiq_adni2 = npiq_use[npiq_use['RID'].isin(adni2_rids)] "
   ]
  },
  {
   "cell_type": "code",
   "execution_count": 184,
   "metadata": {},
   "outputs": [
    {
     "name": "stdout",
     "output_type": "stream",
     "text": [
      "Total ADNI2 Participants: 790\n",
      "Participants with Available NPI-Q Data: 732\n",
      "Participants without NPI-Q Data: 58\n"
     ]
    }
   ],
   "source": [
    "npiq_available = npiq_adni2['RID'].nunique()\n",
    "total_adni2_participants = len(adni2_rids)\n",
    "missing_npiq = total_adni2_participants - npiq_available\n",
    "print(f\"Total ADNI2 Participants: {total_adni2_participants}\")\n",
    "print(f\"Participants with Available NPI-Q Data: {npiq_available}\")\n",
    "print(f\"Participants without NPI-Q Data: {missing_npiq}\")"
   ]
  },
  {
   "cell_type": "code",
   "execution_count": 185,
   "metadata": {},
   "outputs": [],
   "source": [
    "severity_counts = npiq_adni2['NPIKSEV'].value_counts().sort_index()"
   ]
  },
  {
   "cell_type": "code",
   "execution_count": 191,
   "metadata": {},
   "outputs": [],
   "source": [
    "npiq_adni2 = npiq_adni2.rename(columns={\"VISCODE2\":\"VISCODE\"})"
   ]
  },
  {
   "cell_type": "code",
   "execution_count": 193,
   "metadata": {},
   "outputs": [],
   "source": [
    "merged = adni2_longitudinal.merge(npiq_adni2, on=['RID','VISCODE'], how='inner')"
   ]
  },
  {
   "cell_type": "code",
   "execution_count": 195,
   "metadata": {},
   "outputs": [
    {
     "data": {
      "text/plain": [
       "732"
      ]
     },
     "execution_count": 195,
     "metadata": {},
     "output_type": "execute_result"
    }
   ],
   "source": [
    "merged['RID'].nunique()"
   ]
  },
  {
   "cell_type": "code",
   "execution_count": 199,
   "metadata": {},
   "outputs": [
    {
     "data": {
      "text/plain": [
       "NPIKSEV  NPIK\n",
       "1.0      1.0     151\n",
       "2.0      1.0      75\n",
       "3.0      1.0      15\n",
       "Name: RID, dtype: int64"
      ]
     },
     "execution_count": 199,
     "metadata": {},
     "output_type": "execute_result"
    }
   ],
   "source": [
    "merged.groupby(['NPIKSEV','NPIK'])['RID'].nunique()"
   ]
  },
  {
   "cell_type": "code",
   "execution_count": 203,
   "metadata": {},
   "outputs": [
    {
     "data": {
      "text/plain": [
       "NPIK\n",
       "0.0    650\n",
       "1.0    214\n",
       "2.0      6\n",
       "Name: RID, dtype: int64"
      ]
     },
     "execution_count": 203,
     "metadata": {},
     "output_type": "execute_result"
    }
   ],
   "source": [
    "merged.groupby('NPIK')['RID'].nunique()    "
   ]
  },
  {
   "cell_type": "code",
   "execution_count": 210,
   "metadata": {},
   "outputs": [
    {
     "data": {
      "text/plain": [
       "NPIKSEV\n",
       "1.0    151\n",
       "2.0     75\n",
       "3.0     15\n",
       "Name: RID, dtype: int64"
      ]
     },
     "execution_count": 210,
     "metadata": {},
     "output_type": "execute_result"
    }
   ],
   "source": [
    "merged[(merged['NPIK']==1) | (merged['NPIK']==2)].groupby('NPIKSEV')['RID'].nunique()"
   ]
  },
  {
   "cell_type": "code",
   "execution_count": null,
   "metadata": {},
   "outputs": [
    {
     "data": {
      "image/png": "[encoded data removed]",
      "text/plain": [
       "<Figure size 1000x600 with 1 Axes>"
      ]
     },
     "metadata": {},
     "output_type": "display_data"
    }
   ],
   "source": [
    "severity_analysis = merged[['RID', 'DX_bl', 'NPIKSEV']].dropna()\n",
    "\n",
    "severity_counts = severity_analysis.groupby(['DX_bl', 'NPIKSEV'])[\n",
    "    'RID'].nunique().unstack(fill_value=0)\n",
    "\n",
    "severity_counts.plot(kind='bar', stacked=True,\n",
    "                     colormap='viridis', figsize=(10, 6))\n",
    "\n",
    "plt.title('Sleep Disturbance Severity (NPIKSEV) Across Diagnostic Groups')\n",
    "plt.xlabel('Diagnostic Group (DX_bl)')\n",
    "plt.ylabel('Number of Participants')\n",
    "plt.legend(title='Severity Level', labels=[\n",
    "           'Mild (1)', 'Moderate (2)', 'Severe (3)'])\n",
    "plt.xticks(rotation=45)\n",
    "plt.grid(axis='y', linestyle='--', alpha=0.7)\n",
    "\n",
    "plt.show()"
   ]
  },
  {
   "cell_type": "code",
   "execution_count": 215,
   "metadata": {},
   "outputs": [],
   "source": [
    "visit_counts = merged.groupby('RID')['VISCODE'].nunique()\n",
    "\n",
    "# Convert to DataFrame for better readability\n",
    "visit_counts_df = visit_counts.reset_index()\n",
    "visit_counts_df.columns = ['RID', 'Number_of_Visits']"
   ]
  },
  {
   "cell_type": "code",
   "execution_count": 217,
   "metadata": {},
   "outputs": [],
   "source": [
    "import seaborn as sns "
   ]
  },
  {
   "cell_type": "code",
   "execution_count": 218,
   "metadata": {},
   "outputs": [
    {
     "data": {
      "image/png": "[encoded data removed]",
      "text/plain": [
       "<Figure size 1000x600 with 1 Axes>"
      ]
     },
     "metadata": {},
     "output_type": "display_data"
    }
   ],
   "source": [
    "plt.figure(figsize=(10, 6))\n",
    "sns.histplot(visit_counts_df['Number_of_Visits'],\n",
    "             bins=20, kde=True, color='blue')\n",
    "\n",
    "plt.title('Distribution of Number of Visits per Participant')\n",
    "plt.xlabel('Number of Visits')\n",
    "plt.ylabel('Count of Participants')\n",
    "plt.grid(axis='y', linestyle='--', alpha=0.7)\n",
    "plt.show()"
   ]
  },
  {
   "cell_type": "code",
   "execution_count": 220,
   "metadata": {},
   "outputs": [
    {
     "name": "stdout",
     "output_type": "stream",
     "text": [
      "       count      mean       std  min  25%  50%  75%  max\n",
      "DX_bl                                                    \n",
      "AD     133.0  1.526316  0.516089  1.0  1.0  2.0  2.0  3.0\n",
      "CN     182.0  2.857143  1.257652  1.0  2.0  3.0  3.0  6.0\n",
      "EMCI   163.0  2.184049  0.890549  1.0  2.0  2.0  3.0  5.0\n",
      "LMCI   158.0  2.113924  0.667486  1.0  2.0  2.0  2.0  4.0\n",
      "SMC     96.0  1.739583  0.943061  1.0  1.0  1.0  2.0  4.0\n"
     ]
    },
    {
     "name": "stderr",
     "output_type": "stream",
     "text": [
      "C:\\Users\\anisr\\AppData\\Local\\Temp\\ipykernel_16768\\4269506635.py:9: FutureWarning: \n",
      "\n",
      "Passing `palette` without assigning `hue` is deprecated and will be removed in v0.14.0. Assign the `x` variable to `hue` and set `legend=False` for the same effect.\n",
      "\n",
      "  sns.barplot(data=visit_counts, x='DX_bl', y='Number_of_Visits', palette='Set2')\n"
     ]
    },
    {
     "data": {
      "image/png": "[encoded data removed]",
      "text/plain": [
       "<Figure size 1200x600 with 1 Axes>"
      ]
     },
     "metadata": {},
     "output_type": "display_data"
    }
   ],
   "source": [
    "visit_counts = merged.groupby(['RID', 'DX_bl'])[\n",
    "    'VISCODE'].nunique().reset_index()\n",
    "visit_counts.columns = ['RID', 'DX_bl', 'Number_of_Visits']\n",
    "\n",
    "visit_summary = visit_counts.groupby('DX_bl')['Number_of_Visits'].describe()\n",
    "print(visit_summary)\n",
    "\n",
    "plt.figure(figsize=(12, 6))\n",
    "sns.barplot(data=visit_counts, x='DX_bl', y='Number_of_Visits', palette='Set2')\n",
    "\n",
    "plt.title('Number of Visits per Participant by Diagnostic Group')\n",
    "plt.xlabel('Baseline Diagnosis')\n",
    "plt.ylabel('Number of Visits')\n",
    "plt.xticks(rotation=45)\n",
    "plt.grid(axis='y', linestyle='--', alpha=0.7)\n",
    "\n",
    "plt.show()"
   ]
  },
  {
   "cell_type": "code",
   "execution_count": null,
   "metadata": {},
   "outputs": [],
   "source": []
  }
 ],
 "metadata": {
  "kernelspec": {
   "display_name": "research",
   "language": "python",
   "name": "python3"
  },
  "language_info": {
   "codemirror_mode": {
    "name": "ipython",
    "version": 3
   },
   "file_extension": ".py",
   "mimetype": "text/x-python",
   "name": "python",
   "nbconvert_exporter": "python",
   "pygments_lexer": "ipython3",
   "version": "3.8.20"
  }
 },
 "nbformat": 4,
 "nbformat_minor": 2
}
